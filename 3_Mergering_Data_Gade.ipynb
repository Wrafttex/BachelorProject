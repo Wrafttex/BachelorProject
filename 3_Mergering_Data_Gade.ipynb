{
 "cells": [
  {
   "cell_type": "code",
   "execution_count": 9,
   "metadata": {},
   "outputs": [],
   "source": [
    "import pandas as pd\n",
    "from datetime import datetime, timedelta\n"
   ]
  },
  {
   "cell_type": "code",
   "execution_count": 37,
   "metadata": {},
   "outputs": [],
   "source": [
    "df = pd.read_csv(\"Dataset/AAl_G_19-22mar_skew.csv\",sep=\",\")\n",
    "df['Recorded'] = pd.to_datetime(df['Recorded'])\n",
    "df = df.sort_values(by=[\"Recorded\"],ascending=True)\n",
    "df.index = df[\"Recorded\"]\n",
    "df = df.drop(columns=\"Recorded\")\n",
    "#df[\"station\"]=\"Gade\"\n",
    "\n",
    "current_start_time_1 = \"2022-03-07\" + \" 12:30:00\"\n",
    "current_end_time_1 = \"2019-12-06\" + \" 10:00:00\"\n",
    "start_day = datetime.strptime(current_start_time_1, '%Y-%m-%d %H:%M:%S')\n",
    "end_day = datetime.strptime(current_end_time_1, '%Y-%m-%d %H:%M:%S')\n",
    "dates = pd.date_range(end_day, start_day, freq='30min')\n",
    "df1 = pd.DataFrame(index=dates)\n",
    "df1[\"Recorded\"]=dates\n",
    "\n",
    "df = pd.concat([df1,df],axis=1)\n",
    "#df.to_csv(\"AAL_T_19-22mar_skew.csv\",index=False,sep=\";\")"
   ]
  },
  {
   "cell_type": "code",
   "execution_count": 38,
   "metadata": {},
   "outputs": [],
   "source": [
    "#df = pd.read_csv(\"AAl_T_19-22mar_skew.csv\",sep=\";\")\n",
    "df[\"Recorded\"] = pd.to_datetime(df['Recorded'])\n",
    "df.index = df[\"Recorded\"]\n",
    "\n",
    "df[[\"NO2\",\"NOx\",\"O3\",\"CO\",\"SO2\"]] =df[[\"NO2\",\"NOx\",\"CO\",\"SO2\"]].interpolate(method=\"linear\").round(2)\n",
    "\n",
    "#df.to_csv(\"interpolatelinear.csv\",index=False)"
   ]
  },
  {
   "cell_type": "code",
   "execution_count": 41,
   "metadata": {},
   "outputs": [],
   "source": [
    "df_Weather = pd.read_csv(\"Dataset/Weather_Data.csv\")\n",
    "#df = pd.read_csv(\"interpolatelinear.csv\",sep=\",\")\n",
    "\n",
    "df_Weather['valid_time_gmt'] = pd.to_datetime(df_Weather['valid_time_gmt'])\n",
    "df_Weather.index = df_Weather[\"valid_time_gmt\"]\n",
    "\n",
    "df['Recorded'] = pd.to_datetime(df['Recorded'])\n",
    "df.index = df[\"Recorded\"]\n",
    "df2 = df.join(df_Weather)\n",
    "df2 = df2.drop(columns=\"valid_time_gmt\")\n",
    "df2 = df2[[\"Recorded\",\"NO2\",\"NOx\",\"CO\",\"SO2\",\"heat_index\",\"rh\",\"pressure\",\"wdir\",\"wdir_cardinal\",\"wspd\"]]\n",
    "df2.to_csv(\"Dataset/AAl_G_Weather_SkewFix_19des-22mar.csv\",index=False)"
   ]
  }
 ],
 "metadata": {
  "interpreter": {
   "hash": "6ceb70875582159136b9c7d207ebd2016435d2a136370e35b97c5e7cd11b8213"
  },
  "kernelspec": {
   "display_name": "Python 3.9.6 64-bit",
   "language": "python",
   "name": "python3"
  },
  "language_info": {
   "codemirror_mode": {
    "name": "ipython",
    "version": 3
   },
   "file_extension": ".py",
   "mimetype": "text/x-python",
   "name": "python",
   "nbconvert_exporter": "python",
   "pygments_lexer": "ipython3",
   "version": "3.9.6"
  },
  "orig_nbformat": 4
 },
 "nbformat": 4,
 "nbformat_minor": 2
}
