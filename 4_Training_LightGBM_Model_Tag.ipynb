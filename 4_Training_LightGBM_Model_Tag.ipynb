{
 "cells": [
  {
   "cell_type": "code",
   "execution_count": 1,
   "metadata": {},
   "outputs": [],
   "source": [
    "import lightgbm as lgb\n",
    "import numpy as np\n",
    "import pickle\n",
    "import time\n",
    "from sklearn.model_selection import train_test_split\n",
    "from sklearn.metrics import mean_absolute_error\n",
    "import pandas as pd\n",
    "import matplotlib.pyplot as plt"
   ]
  },
  {
   "cell_type": "code",
   "execution_count": 2,
   "metadata": {},
   "outputs": [],
   "source": [
    "def save_pkl(file_dir, data):\n",
    "    f = open(file_dir,\"wb\")\n",
    "    pickle.dump(data, f, protocol=4)\n",
    "    f.close()\n",
    "    \n",
    "def read_pkl(file_dir):\n",
    "    f = open(file_dir,\"rb\")\n",
    "    data = pickle.load(f)\n",
    "    return data\n",
    "\n",
    "def get_score(valid_y_exp, pred):\n",
    "    return mean_absolute_error(pred, valid_y_exp)\n"
   ]
  },
  {
   "cell_type": "markdown",
   "metadata": {},
   "source": [
    "Reading CSV file"
   ]
  },
  {
   "cell_type": "code",
   "execution_count": 3,
   "metadata": {},
   "outputs": [],
   "source": [
    "df = pd.read_csv(\"Dataset/AAl_T_Weather_SkewFix_19des-22mar.csv\")\n"
   ]
  },
  {
   "cell_type": "markdown",
   "metadata": {},
   "source": [
    "Extracting our Timestamp column to week, year, month, day and hour columns, as Lightgbm can't handle Timestamp only numbers"
   ]
  },
  {
   "cell_type": "code",
   "execution_count": 4,
   "metadata": {},
   "outputs": [],
   "source": [
    "df = df.rename(columns={\"Recorded\":\"time\",\"heat_index\":\"temperature\",\"rh\":\"humidity\",\"wdir\":\"wind_direction\",\"wspd\":\"wind_speed\",\n",
    "                        'NO2': 'NO2_Concentration','NOx': 'NOx_Concentration',\"O3\":\"O3_Concentration\"})\n",
    "df['time'] = pd.to_datetime(df['time'])\n",
    "df.index = df['time']\n",
    "df['time_week'] = df.index.map(lambda x: x.weekday)\n",
    "df['time_year'] = df.index.map(lambda x: x.year)\n",
    "df['time_month'] = df.index.map(lambda x: x.month)\n",
    "df['time_day'] = df.index.map(lambda x: x.day)\n",
    "df['time_hour'] = df.index.map(lambda x: x.hour)\n"
   ]
  },
  {
   "cell_type": "code",
   "execution_count": 5,
   "metadata": {},
   "outputs": [
    {
     "data": {
      "text/html": [
       "<div>\n",
       "<style scoped>\n",
       "    .dataframe tbody tr th:only-of-type {\n",
       "        vertical-align: middle;\n",
       "    }\n",
       "\n",
       "    .dataframe tbody tr th {\n",
       "        vertical-align: top;\n",
       "    }\n",
       "\n",
       "    .dataframe thead th {\n",
       "        text-align: right;\n",
       "    }\n",
       "</style>\n",
       "<table border=\"1\" class=\"dataframe\">\n",
       "  <thead>\n",
       "    <tr style=\"text-align: right;\">\n",
       "      <th></th>\n",
       "      <th>time</th>\n",
       "      <th>NO2_Concentration</th>\n",
       "      <th>NOx_Concentration</th>\n",
       "      <th>O3_Concentration</th>\n",
       "      <th>temperature</th>\n",
       "      <th>humidity</th>\n",
       "      <th>pressure</th>\n",
       "      <th>wind_direction</th>\n",
       "      <th>wdir_cardinal</th>\n",
       "      <th>wind_speed</th>\n",
       "      <th>time_week</th>\n",
       "      <th>time_year</th>\n",
       "      <th>time_month</th>\n",
       "      <th>time_day</th>\n",
       "      <th>time_hour</th>\n",
       "    </tr>\n",
       "    <tr>\n",
       "      <th>time</th>\n",
       "      <th></th>\n",
       "      <th></th>\n",
       "      <th></th>\n",
       "      <th></th>\n",
       "      <th></th>\n",
       "      <th></th>\n",
       "      <th></th>\n",
       "      <th></th>\n",
       "      <th></th>\n",
       "      <th></th>\n",
       "      <th></th>\n",
       "      <th></th>\n",
       "      <th></th>\n",
       "      <th></th>\n",
       "      <th></th>\n",
       "    </tr>\n",
       "  </thead>\n",
       "  <tbody>\n",
       "    <tr>\n",
       "      <th>2019-12-06 10:00:00</th>\n",
       "      <td>2019-12-06 10:00:00</td>\n",
       "      <td>6.43</td>\n",
       "      <td>8.06</td>\n",
       "      <td>69.81</td>\n",
       "      <td>9.0</td>\n",
       "      <td>87.0</td>\n",
       "      <td>992.65</td>\n",
       "      <td>260.0</td>\n",
       "      <td>W</td>\n",
       "      <td>31.0</td>\n",
       "      <td>4</td>\n",
       "      <td>2019</td>\n",
       "      <td>12</td>\n",
       "      <td>6</td>\n",
       "      <td>10</td>\n",
       "    </tr>\n",
       "    <tr>\n",
       "      <th>2019-12-06 10:30:00</th>\n",
       "      <td>2019-12-06 10:30:00</td>\n",
       "      <td>9.36</td>\n",
       "      <td>11.62</td>\n",
       "      <td>64.26</td>\n",
       "      <td>9.0</td>\n",
       "      <td>87.0</td>\n",
       "      <td>993.65</td>\n",
       "      <td>260.0</td>\n",
       "      <td>W</td>\n",
       "      <td>33.0</td>\n",
       "      <td>4</td>\n",
       "      <td>2019</td>\n",
       "      <td>12</td>\n",
       "      <td>6</td>\n",
       "      <td>10</td>\n",
       "    </tr>\n",
       "    <tr>\n",
       "      <th>2019-12-06 11:00:00</th>\n",
       "      <td>2019-12-06 11:00:00</td>\n",
       "      <td>10.42</td>\n",
       "      <td>13.22</td>\n",
       "      <td>62.80</td>\n",
       "      <td>8.0</td>\n",
       "      <td>93.0</td>\n",
       "      <td>993.65</td>\n",
       "      <td>250.0</td>\n",
       "      <td>WSW</td>\n",
       "      <td>33.0</td>\n",
       "      <td>4</td>\n",
       "      <td>2019</td>\n",
       "      <td>12</td>\n",
       "      <td>6</td>\n",
       "      <td>11</td>\n",
       "    </tr>\n",
       "    <tr>\n",
       "      <th>2019-12-06 11:30:00</th>\n",
       "      <td>2019-12-06 11:30:00</td>\n",
       "      <td>9.28</td>\n",
       "      <td>12.08</td>\n",
       "      <td>64.50</td>\n",
       "      <td>8.0</td>\n",
       "      <td>93.0</td>\n",
       "      <td>993.65</td>\n",
       "      <td>250.0</td>\n",
       "      <td>WSW</td>\n",
       "      <td>30.0</td>\n",
       "      <td>4</td>\n",
       "      <td>2019</td>\n",
       "      <td>12</td>\n",
       "      <td>6</td>\n",
       "      <td>11</td>\n",
       "    </tr>\n",
       "    <tr>\n",
       "      <th>2019-12-06 12:00:00</th>\n",
       "      <td>2019-12-06 12:00:00</td>\n",
       "      <td>13.09</td>\n",
       "      <td>17.45</td>\n",
       "      <td>57.96</td>\n",
       "      <td>8.0</td>\n",
       "      <td>93.0</td>\n",
       "      <td>993.65</td>\n",
       "      <td>250.0</td>\n",
       "      <td>WSW</td>\n",
       "      <td>24.0</td>\n",
       "      <td>4</td>\n",
       "      <td>2019</td>\n",
       "      <td>12</td>\n",
       "      <td>6</td>\n",
       "      <td>12</td>\n",
       "    </tr>\n",
       "    <tr>\n",
       "      <th>...</th>\n",
       "      <td>...</td>\n",
       "      <td>...</td>\n",
       "      <td>...</td>\n",
       "      <td>...</td>\n",
       "      <td>...</td>\n",
       "      <td>...</td>\n",
       "      <td>...</td>\n",
       "      <td>...</td>\n",
       "      <td>...</td>\n",
       "      <td>...</td>\n",
       "      <td>...</td>\n",
       "      <td>...</td>\n",
       "      <td>...</td>\n",
       "      <td>...</td>\n",
       "      <td>...</td>\n",
       "    </tr>\n",
       "    <tr>\n",
       "      <th>2022-03-07 10:30:00</th>\n",
       "      <td>2022-03-07 10:30:00</td>\n",
       "      <td>6.96</td>\n",
       "      <td>9.64</td>\n",
       "      <td>69.91</td>\n",
       "      <td>-1.0</td>\n",
       "      <td>100.0</td>\n",
       "      <td>1026.63</td>\n",
       "      <td>230.0</td>\n",
       "      <td>SW</td>\n",
       "      <td>7.0</td>\n",
       "      <td>0</td>\n",
       "      <td>2022</td>\n",
       "      <td>3</td>\n",
       "      <td>7</td>\n",
       "      <td>10</td>\n",
       "    </tr>\n",
       "    <tr>\n",
       "      <th>2022-03-07 11:00:00</th>\n",
       "      <td>2022-03-07 11:00:00</td>\n",
       "      <td>8.89</td>\n",
       "      <td>12.76</td>\n",
       "      <td>67.22</td>\n",
       "      <td>2.0</td>\n",
       "      <td>93.0</td>\n",
       "      <td>1026.63</td>\n",
       "      <td>230.0</td>\n",
       "      <td>SW</td>\n",
       "      <td>13.0</td>\n",
       "      <td>0</td>\n",
       "      <td>2022</td>\n",
       "      <td>3</td>\n",
       "      <td>7</td>\n",
       "      <td>11</td>\n",
       "    </tr>\n",
       "    <tr>\n",
       "      <th>2022-03-07 11:30:00</th>\n",
       "      <td>2022-03-07 11:30:00</td>\n",
       "      <td>7.90</td>\n",
       "      <td>11.25</td>\n",
       "      <td>69.61</td>\n",
       "      <td>2.0</td>\n",
       "      <td>100.0</td>\n",
       "      <td>1026.63</td>\n",
       "      <td>240.0</td>\n",
       "      <td>WSW</td>\n",
       "      <td>17.0</td>\n",
       "      <td>0</td>\n",
       "      <td>2022</td>\n",
       "      <td>3</td>\n",
       "      <td>7</td>\n",
       "      <td>11</td>\n",
       "    </tr>\n",
       "    <tr>\n",
       "      <th>2022-03-07 12:00:00</th>\n",
       "      <td>2022-03-07 12:00:00</td>\n",
       "      <td>14.91</td>\n",
       "      <td>20.59</td>\n",
       "      <td>54.56</td>\n",
       "      <td>2.0</td>\n",
       "      <td>100.0</td>\n",
       "      <td>1026.63</td>\n",
       "      <td>260.0</td>\n",
       "      <td>W</td>\n",
       "      <td>17.0</td>\n",
       "      <td>0</td>\n",
       "      <td>2022</td>\n",
       "      <td>3</td>\n",
       "      <td>7</td>\n",
       "      <td>12</td>\n",
       "    </tr>\n",
       "    <tr>\n",
       "      <th>2022-03-07 12:30:00</th>\n",
       "      <td>2022-03-07 12:30:00</td>\n",
       "      <td>11.88</td>\n",
       "      <td>15.97</td>\n",
       "      <td>56.78</td>\n",
       "      <td>2.0</td>\n",
       "      <td>100.0</td>\n",
       "      <td>1026.63</td>\n",
       "      <td>260.0</td>\n",
       "      <td>W</td>\n",
       "      <td>15.0</td>\n",
       "      <td>0</td>\n",
       "      <td>2022</td>\n",
       "      <td>3</td>\n",
       "      <td>7</td>\n",
       "      <td>12</td>\n",
       "    </tr>\n",
       "  </tbody>\n",
       "</table>\n",
       "<p>39462 rows × 15 columns</p>\n",
       "</div>"
      ],
      "text/plain": [
       "                                   time  NO2_Concentration  NOx_Concentration  \\\n",
       "time                                                                            \n",
       "2019-12-06 10:00:00 2019-12-06 10:00:00               6.43               8.06   \n",
       "2019-12-06 10:30:00 2019-12-06 10:30:00               9.36              11.62   \n",
       "2019-12-06 11:00:00 2019-12-06 11:00:00              10.42              13.22   \n",
       "2019-12-06 11:30:00 2019-12-06 11:30:00               9.28              12.08   \n",
       "2019-12-06 12:00:00 2019-12-06 12:00:00              13.09              17.45   \n",
       "...                                 ...                ...                ...   \n",
       "2022-03-07 10:30:00 2022-03-07 10:30:00               6.96               9.64   \n",
       "2022-03-07 11:00:00 2022-03-07 11:00:00               8.89              12.76   \n",
       "2022-03-07 11:30:00 2022-03-07 11:30:00               7.90              11.25   \n",
       "2022-03-07 12:00:00 2022-03-07 12:00:00              14.91              20.59   \n",
       "2022-03-07 12:30:00 2022-03-07 12:30:00              11.88              15.97   \n",
       "\n",
       "                     O3_Concentration  temperature  humidity  pressure  \\\n",
       "time                                                                     \n",
       "2019-12-06 10:00:00             69.81          9.0      87.0    992.65   \n",
       "2019-12-06 10:30:00             64.26          9.0      87.0    993.65   \n",
       "2019-12-06 11:00:00             62.80          8.0      93.0    993.65   \n",
       "2019-12-06 11:30:00             64.50          8.0      93.0    993.65   \n",
       "2019-12-06 12:00:00             57.96          8.0      93.0    993.65   \n",
       "...                               ...          ...       ...       ...   \n",
       "2022-03-07 10:30:00             69.91         -1.0     100.0   1026.63   \n",
       "2022-03-07 11:00:00             67.22          2.0      93.0   1026.63   \n",
       "2022-03-07 11:30:00             69.61          2.0     100.0   1026.63   \n",
       "2022-03-07 12:00:00             54.56          2.0     100.0   1026.63   \n",
       "2022-03-07 12:30:00             56.78          2.0     100.0   1026.63   \n",
       "\n",
       "                     wind_direction wdir_cardinal  wind_speed  time_week  \\\n",
       "time                                                                       \n",
       "2019-12-06 10:00:00           260.0             W        31.0          4   \n",
       "2019-12-06 10:30:00           260.0             W        33.0          4   \n",
       "2019-12-06 11:00:00           250.0           WSW        33.0          4   \n",
       "2019-12-06 11:30:00           250.0           WSW        30.0          4   \n",
       "2019-12-06 12:00:00           250.0           WSW        24.0          4   \n",
       "...                             ...           ...         ...        ...   \n",
       "2022-03-07 10:30:00           230.0            SW         7.0          0   \n",
       "2022-03-07 11:00:00           230.0            SW        13.0          0   \n",
       "2022-03-07 11:30:00           240.0           WSW        17.0          0   \n",
       "2022-03-07 12:00:00           260.0             W        17.0          0   \n",
       "2022-03-07 12:30:00           260.0             W        15.0          0   \n",
       "\n",
       "                     time_year  time_month  time_day  time_hour  \n",
       "time                                                             \n",
       "2019-12-06 10:00:00       2019          12         6         10  \n",
       "2019-12-06 10:30:00       2019          12         6         10  \n",
       "2019-12-06 11:00:00       2019          12         6         11  \n",
       "2019-12-06 11:30:00       2019          12         6         11  \n",
       "2019-12-06 12:00:00       2019          12         6         12  \n",
       "...                        ...         ...       ...        ...  \n",
       "2022-03-07 10:30:00       2022           3         7         10  \n",
       "2022-03-07 11:00:00       2022           3         7         11  \n",
       "2022-03-07 11:30:00       2022           3         7         11  \n",
       "2022-03-07 12:00:00       2022           3         7         12  \n",
       "2022-03-07 12:30:00       2022           3         7         12  \n",
       "\n",
       "[39462 rows x 15 columns]"
      ]
     },
     "execution_count": 5,
     "metadata": {},
     "output_type": "execute_result"
    }
   ],
   "source": [
    "df"
   ]
  },
  {
   "cell_type": "markdown",
   "metadata": {},
   "source": [
    "Choosing Between Base or with weather data"
   ]
  },
  {
   "cell_type": "code",
   "execution_count": 6,
   "metadata": {},
   "outputs": [],
   "source": [
    "Airs = df[[\"NOx_Concentration\",\"NO2_Concentration\",\"O3_Concentration\",'time_year', 'time_month', 'time_week', 'time_day', \n",
    "           'time_hour',\"temperature\", \"pressure\", \"humidity\", \"wind_direction\", \"wind_speed\",]].copy()\n",
    "#Airs = df[[\"NO2_Concentration\", \"NOx_Concentration\",\"O3_Concentration\"\n",
    "# 'time_year', 'time_month', 'time_week', 'time_day', \n",
    "          # 'time_hour',\n",
    "#          ]].copy()"
   ]
  },
  {
   "cell_type": "markdown",
   "metadata": {},
   "source": [
    "season_dict={'April':\"summer\",\n",
    "             'May':\"summer\",\n",
    "             'June':\"monsoon\",\n",
    "             'July':\"monsoon\",\n",
    "             \"August\":\"monsoon\",\n",
    "             'September':\"pre-winter\",\n",
    "             'October':\"pre-winter\",\n",
    "             'November':\"winter\",\n",
    "             'December':\"winter\",\n",
    "             'January':\"winter\",\n",
    "             'February':\"winter\"}\n",
    "\n",
    "def datetime_features(df):\n",
    "  df['weekday']=df.timestamp.dt.day_name()\n",
    "  df['month']=df.timestamp.dt.month_name()\n",
    "  df['date']=df.timestamp.dt.strftime(\"%Y-%m-%d\")\n",
    "  df['time']=df.timestamp.dt.strftime(\"%H%M\").astype(\"int\")\n",
    "  df[\"workinghrs\"]=df[\"time\"].apply(lambda x: 1 if x>600 & x<1800 else 0)\n",
    "  df[\"season\"]=df[\"month\"].map(season_dict)"
   ]
  },
  {
   "cell_type": "code",
   "execution_count": 7,
   "metadata": {},
   "outputs": [],
   "source": [
    "listing = []\n",
    "for i in range(Airs.shape[0]-7105):\n",
    "    tmp = Airs.iloc[i]\n",
    "    tmp = np.hstack((tmp))\n",
    "    listing.append(tmp)\n",
    "        \n",
    "    "
   ]
  },
  {
   "cell_type": "code",
   "execution_count": 8,
   "metadata": {},
   "outputs": [],
   "source": [
    "NOx_list = Airs['NOx_Concentration'].values\n",
    "NO2_list = Airs['NO2_Concentration'].values\n",
    "O3_list = Airs['O3_Concentration'].values\n",
    "Y_NOx_list = []\n",
    "Y_NO2_list = []\n",
    "Y_O3_list = []\n",
    "\n",
    "X_extend_list = []\n",
    "for i in range(1,Airs.shape[0]-7104):\n",
    "    Y_NOx_list.append(NOx_list[i])\n",
    "    Y_NO2_list.append(NO2_list[i])\n",
    "    Y_O3_list.append(O3_list[i])"
   ]
  },
  {
   "cell_type": "code",
   "execution_count": 9,
   "metadata": {},
   "outputs": [],
   "source": [
    "test_x = []\n",
    "for i in range(Airs.shape[0]-7105,Airs.shape[0]-26):\n",
    "    tmp = Airs.iloc[i]\n",
    "    tmp = np.hstack((tmp))\n",
    "    test_x.append(tmp)"
   ]
  },
  {
   "cell_type": "code",
   "execution_count": 10,
   "metadata": {},
   "outputs": [],
   "source": [
    "Y_NOx_Test_list = []\n",
    "Y_NO2_Test_list = []\n",
    "Y_O3_Test_list = []\n",
    "for i in range(Airs.shape[0]-7104,Airs.shape[0]-25):\n",
    "    Y_NOx_Test_list.append(NOx_list[i])\n",
    "    Y_NO2_Test_list.append(NO2_list[i])\n",
    "    Y_O3_Test_list.append(O3_list[i])"
   ]
  },
  {
   "cell_type": "code",
   "execution_count": 11,
   "metadata": {},
   "outputs": [],
   "source": [
    "Y_Test_NOx = np.vstack(Y_NOx_Test_list)\n",
    "Y_Test_NO2 = np.vstack(Y_NO2_Test_list)\n",
    "Y_Test_O3 = np.vstack(Y_O3_Test_list)\n",
    "Y_Test_NOx = Y_Test_NOx.flatten()\n",
    "Y_Test_NO2 = Y_Test_NO2.flatten()\n",
    "Y_Test_O3 = Y_Test_O3.flatten()\n",
    "X_Test = np.vstack(test_x)"
   ]
  },
  {
   "cell_type": "code",
   "execution_count": 12,
   "metadata": {},
   "outputs": [],
   "source": [
    "Y_NOx = np.vstack(Y_NOx_list)\n",
    "Y_NO2 = np.vstack(Y_NO2_list)\n",
    "Y_O3 = np.vstack(Y_O3_list)\n",
    "Y_NOx = Y_NOx.flatten()\n",
    "Y_NO2 = Y_NO2.flatten()\n",
    "Y_O3 = Y_O3.flatten()\n",
    "X = np.vstack(listing)"
   ]
  },
  {
   "cell_type": "code",
   "execution_count": 13,
   "metadata": {},
   "outputs": [
    {
     "name": "stdout",
     "output_type": "stream",
     "text": [
      "(32357, 13) (32357,) (32357,)\n"
     ]
    }
   ],
   "source": [
    "print(X.shape,Y_NOx.shape,Y_NO2.shape)"
   ]
  },
  {
   "cell_type": "code",
   "execution_count": 14,
   "metadata": {},
   "outputs": [],
   "source": [
    "#listfeature_name = ['NOx_Concentration','NO2_Concentration',\"time_year\", 'time_month','time_week','time_day','time_hour',]"
   ]
  },
  {
   "cell_type": "code",
   "execution_count": 15,
   "metadata": {},
   "outputs": [],
   "source": [
    "#listfeature_name = ['NOx_Concentration','NO2_Concentration',\"O3_Concentration\"]"
   ]
  },
  {
   "cell_type": "code",
   "execution_count": 16,
   "metadata": {},
   "outputs": [],
   "source": [
    "listfeature_name = ['NOx_Concentration','NO2_Concentration',\"O3_Concentration\",\"time_year\", 'time_month',          # feature 0-1# feature 2-6\n",
    "                    'time_week','time_day','time_hour',\n",
    "                    'temperature','pressure','humidity', 'wind_direction', 'wind_speed',#\"NO2ratio\",\"NOxratio\"#\"O3_Concentration\",\n",
    "                    ]"
   ]
  },
  {
   "cell_type": "code",
   "execution_count": 17,
   "metadata": {},
   "outputs": [],
   "source": [
    "def train_test(model_param, train_X, test_X, train_Y, test_Y, save_dir):\n",
    "    time_start = time.time()\n",
    "    lgb_train = lgb.Dataset(train_X, train_Y)\n",
    "    lgb_eval = lgb.Dataset(test_X, test_Y, reference=lgb_train)\n",
    "    params = {\n",
    "    'task': 'train',\n",
    "    'verbosity': -1,\n",
    "    'gpu_use_dp': True,\n",
    "    'device_type': 'gpu',\n",
    "    'boosting_type': 'gbdt',\n",
    "    'objective': 'regression_l1',\n",
    "    'metric': {'mae'},\n",
    "    'max_depth': model_param['depth'], #impact on model performance and train time\n",
    "    'num_leaves': model_param['leaf'],\n",
    "    'min_data_in_leaf': 20,\n",
    "    'learning_rate': model_param['lr'],\n",
    "    'num_threads':7\n",
    "    # 'feature_fraction': 1, #can be used to speed up training and deal with overfitting\n",
    "    # 'bagging_fraction': 0.8,\n",
    "    # 'bagging_freq': 1,\n",
    "    # 'bagging_seed': 3,\n",
    "#     'min_sum_hessian_in_leaf': 100,\n",
    "    }\n",
    "    evaluation_results  = {}\n",
    "\n",
    "    gbm = lgb.train(params,\n",
    "                    train_set = lgb_train,\n",
    "                    num_boost_round=model_param['tree'],\n",
    "                    valid_sets=[lgb_train, lgb_eval],\n",
    "                    valid_names=['Train', 'Valid'],\n",
    "                    #categorical_feature=2,\n",
    "                    #evals_result= evaluation_results,\n",
    "                    #verbose_eval=500,\n",
    "                    #early_stopping_rounds=3,\n",
    "                    feature_name = listfeature_name,\n",
    "                    callbacks=[lgb.early_stopping(stopping_rounds=3),lgb.log_evaluation(period=500),lgb.record_evaluation(eval_result=evaluation_results)]) \n",
    "\n",
    "    test_predict = gbm.predict(test_X)\n",
    "    score = get_score(test_predict, test_Y)\n",
    "    save_pkl(save_dir, gbm)\n",
    "    print('running time: ', time.time() - time_start)\n",
    "\n",
    "    lgb.plot_metric(evaluation_results)\n",
    "    return score"
   ]
  },
  {
   "cell_type": "code",
   "execution_count": 18,
   "metadata": {},
   "outputs": [
    {
     "name": "stdout",
     "output_type": "stream",
     "text": [
      "(25885, 13) (6472, 13) (25885,) (6472,)\n"
     ]
    }
   ],
   "source": [
    "train_X_NOx, test_X_NOx, train_Y_NOx, test_Y_NOx = train_test_split(X, Y_NOx, test_size=0.2,random_state=42)\n",
    "print(train_X_NOx.shape, test_X_NOx.shape, train_Y_NOx.shape, test_Y_NOx.shape)"
   ]
  },
  {
   "cell_type": "code",
   "execution_count": 19,
   "metadata": {},
   "outputs": [
    {
     "name": "stdout",
     "output_type": "stream",
     "text": [
      "Training until validation scores don't improve for 3 rounds\n",
      "Early stopping, best iteration is:\n",
      "[179]\tTrain's l1: 1.39762\tValid's l1: 1.44429\n",
      "running time:  1.1189312934875488\n"
     ]
    },
    {
     "data": {
      "image/png": "[encoded data removed]",
      "text/plain": [
       "<Figure size 432x288 with 1 Axes>"
      ]
     },
     "metadata": {
      "needs_background": "light"
     },
     "output_type": "display_data"
    }
   ],
   "source": [
    "model_param={'lr': 0.1, 'depth': -1, 'tree': 3000, 'leaf': 10}\n",
    "score = train_test(model_param, train_X_NOx, test_X_NOx, train_Y_NOx, test_Y_NOx, \"LightGBM/lightgbm_T_W_NOx_10_1.model\")"
   ]
  },
  {
   "cell_type": "code",
   "execution_count": 20,
   "metadata": {},
   "outputs": [
    {
     "name": "stdout",
     "output_type": "stream",
     "text": [
      "(25885, 13) (6472, 13) (25885,) (6472,)\n"
     ]
    }
   ],
   "source": [
    "train_X_NO2, test_X_NO2, train_Y_NO2, test_Y_NO2 = train_test_split(X, Y_NO2, test_size=0.2,random_state=42)\n",
    "print(train_X_NO2.shape, test_X_NO2.shape, train_Y_NO2.shape, test_Y_NO2.shape)"
   ]
  },
  {
   "cell_type": "code",
   "execution_count": 21,
   "metadata": {},
   "outputs": [
    {
     "name": "stdout",
     "output_type": "stream",
     "text": [
      "Training until validation scores don't improve for 3 rounds\n",
      "Early stopping, best iteration is:\n",
      "[202]\tTrain's l1: 1.05614\tValid's l1: 1.10739\n",
      "running time:  0.51999831199646\n"
     ]
    },
    {
     "data": {
      "image/png": "[encoded data removed]",
      "text/plain": [
       "<Figure size 432x288 with 1 Axes>"
      ]
     },
     "metadata": {
      "needs_background": "light"
     },
     "output_type": "display_data"
    }
   ],
   "source": [
    "model_param={'lr': 0.1, 'depth': -1, 'tree': 3000, 'leaf': 10}\n",
    "score = train_test(model_param, train_X_NO2, test_X_NO2, train_Y_NO2, test_Y_NO2, \"LightGBM/lightgbm_T_W_NO2_10_1.model\")"
   ]
  },
  {
   "cell_type": "code",
   "execution_count": 22,
   "metadata": {},
   "outputs": [
    {
     "name": "stdout",
     "output_type": "stream",
     "text": [
      "(25885, 13) (6472, 13) (25885,) (6472,)\n"
     ]
    }
   ],
   "source": [
    "train_X_O3, test_X_O3, train_Y_O3, test_Y_O3 = train_test_split(X, Y_O3, test_size=0.2,random_state=42)\n",
    "print(train_X_O3.shape, test_X_O3.shape, train_Y_O3.shape, test_Y_O3.shape)"
   ]
  },
  {
   "cell_type": "code",
   "execution_count": 23,
   "metadata": {},
   "outputs": [
    {
     "name": "stdout",
     "output_type": "stream",
     "text": [
      "Training until validation scores don't improve for 3 rounds\n",
      "Early stopping, best iteration is:\n",
      "[387]\tTrain's l1: 2.15287\tValid's l1: 2.24217\n",
      "running time:  0.9095592498779297\n"
     ]
    },
    {
     "data": {
      "image/png": "[encoded data removed]",
      "text/plain": [
       "<Figure size 432x288 with 1 Axes>"
      ]
     },
     "metadata": {
      "needs_background": "light"
     },
     "output_type": "display_data"
    }
   ],
   "source": [
    "model_param={'lr': 0.1, 'depth': -1, 'tree': 3000, 'leaf': 10}\n",
    "score = train_test(model_param, train_X_O3, test_X_O3, train_Y_O3, test_Y_O3, \"LightGBM/lightgbm_T_W_O3_10_1.model\")"
   ]
  },
  {
   "cell_type": "code",
   "execution_count": 24,
   "metadata": {},
   "outputs": [
    {
     "data": {
      "text/plain": [
       "1.148509197913284"
      ]
     },
     "execution_count": 24,
     "metadata": {},
     "output_type": "execute_result"
    }
   ],
   "source": [
    "gbmNO2 = read_pkl(\"LightGBM/lightgbm_T_W_NO2_10_1.model\")\n",
    "predict_NO2 = gbmNO2.predict(X_Test)\n",
    "score_NO2 = get_score(predict_NO2, Y_Test_NO2)\n",
    "score_NO2"
   ]
  },
  {
   "cell_type": "code",
   "execution_count": 25,
   "metadata": {},
   "outputs": [
    {
     "data": {
      "text/plain": [
       "1.501447333562073"
      ]
     },
     "execution_count": 25,
     "metadata": {},
     "output_type": "execute_result"
    }
   ],
   "source": [
    "gbmNOx = read_pkl(\"LightGBM/lightgbm_T_W_NOx_10_1.model\")\n",
    "predict_NOx = gbmNOx.predict(X_Test)\n",
    "score_NOx = get_score(predict_NOx, Y_Test_NOx)\n",
    "score_NOx"
   ]
  },
  {
   "cell_type": "code",
   "execution_count": 26,
   "metadata": {},
   "outputs": [
    {
     "data": {
      "text/plain": [
       "2.1900254594004296"
      ]
     },
     "execution_count": 26,
     "metadata": {},
     "output_type": "execute_result"
    }
   ],
   "source": [
    "gbmO3 = read_pkl(\"LightGBM/lightgbm_T_W_O3_10_1.model\")\n",
    "predict_O3 = gbmO3.predict(X_Test)\n",
    "score_O3 = get_score(predict_O3, Y_Test_O3)\n",
    "score_O3"
   ]
  },
  {
   "cell_type": "code",
   "execution_count": 27,
   "metadata": {},
   "outputs": [],
   "source": [
    "predictionsDf = pd.DataFrame({\"Pred_NO2\":predict_NO2,\"Pred_NOx\":predict_NOx,\"Pred_O3\":predict_O3})\n",
    "predictionsDf = predictionsDf.round(2)\n",
    "predictionsDf.to_csv(\"LightGBM/AAl_T_Prediction.csv\",index=False)"
   ]
  },
  {
   "cell_type": "code",
   "execution_count": 28,
   "metadata": {},
   "outputs": [],
   "source": [
    "realDF = pd.DataFrame({\"Real_NO2\":Y_Test_NO2,\"Real_NOx\":Y_Test_NOx,\"Real_O3\":Y_Test_O3})\n",
    "realDF.to_csv(\"LightGBM/AAl_T_Real.csv\",index=False)"
   ]
  },
  {
   "cell_type": "code",
   "execution_count": 29,
   "metadata": {},
   "outputs": [
    {
     "data": {
      "image/png": "[encoded data removed]",
      "text/plain": [
       "<Figure size 720x720 with 1 Axes>"
      ]
     },
     "metadata": {
      "needs_background": "light"
     },
     "output_type": "display_data"
    }
   ],
   "source": [
    "ax = lgb.plot_importance(gbmNO2,figsize=(10,10),importance_type=\"auto\")\n",
    "plt.title(\"LightGBM Feature Importance (NOx)\")\n",
    "plt.show()"
   ]
  },
  {
   "cell_type": "code",
   "execution_count": 31,
   "metadata": {},
   "outputs": [
    {
     "data": {
      "image/png": "[encoded data removed]",
      "text/plain": [
       "<Figure size 700x420 with 1 Axes>"
      ]
     },
     "metadata": {},
     "output_type": "display_data"
    }
   ],
   "source": [
    "plt.figure(num=None,dpi=70, figsize=(10, 6),facecolor='w', edgecolor='k')\n",
    "plt.plot(predict_O3[:336], \"-b\",linewidth=3,  label='Predicted value')\n",
    "plt.plot(Y_Test_O3[:336], \"-r\", label='Real values', )\n",
    "plt.legend(loc=\"upper left\")\n",
    "plt.title('NO2 comparisons', x=0.5, y=0.8, loc='right')\n",
    "plt.show()"
   ]
  }
 ],
 "metadata": {
  "interpreter": {
   "hash": "6ceb70875582159136b9c7d207ebd2016435d2a136370e35b97c5e7cd11b8213"
  },
  "kernelspec": {
   "display_name": "Python 3.9.6 64-bit",
   "language": "python",
   "name": "python3"
  },
  "language_info": {
   "codemirror_mode": {
    "name": "ipython",
    "version": 3
   },
   "file_extension": ".py",
   "mimetype": "text/x-python",
   "name": "python",
   "nbconvert_exporter": "python",
   "pygments_lexer": "ipython3",
   "version": "3.9.6"
  },
  "orig_nbformat": 4
 },
 "nbformat": 4,
 "nbformat_minor": 2
}
