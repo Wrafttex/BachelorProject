{
 "cells": [
  {
   "cell_type": "code",
   "execution_count": 1,
   "metadata": {},
   "outputs": [],
   "source": [
    "import lightgbm as lgb\n",
    "import numpy as np\n",
    "import pickle\n",
    "import time\n",
    "from sklearn.model_selection import train_test_split\n",
    "from sklearn.metrics import mean_absolute_error\n",
    "import pandas as pd\n",
    "import matplotlib.pyplot as plt"
   ]
  },
  {
   "cell_type": "code",
   "execution_count": 2,
   "metadata": {},
   "outputs": [],
   "source": [
    "def save_pkl(file_dir, data):\n",
    "    f = open(file_dir,\"wb\")\n",
    "    pickle.dump(data, f, protocol=4)\n",
    "    f.close()\n",
    "    \n",
    "def read_pkl(file_dir):\n",
    "    f = open(file_dir,\"rb\")\n",
    "    data = pickle.load(f)\n",
    "    return data\n",
    "\n",
    "def get_score(valid_y_exp, pred):\n",
    "    return mean_absolute_error(pred, valid_y_exp)\n"
   ]
  },
  {
   "cell_type": "markdown",
   "metadata": {},
   "source": [
    "Reading CSV file"
   ]
  },
  {
   "cell_type": "code",
   "execution_count": 3,
   "metadata": {},
   "outputs": [],
   "source": [
    "df = pd.read_csv(\"Dataset/AAl_T_Weather_SkewFix_19des-22mar.csv\")\n"
   ]
  },
  {
   "cell_type": "markdown",
   "metadata": {},
   "source": [
    "Extracting our Timestamp column to week, year, month, day and hour columns, as Lightgbm can't handle Timestamp only numbers"
   ]
  },
  {
   "cell_type": "code",
   "execution_count": 4,
   "metadata": {},
   "outputs": [],
   "source": [
    "df = df.rename(columns={\"Recorded\":\"time\",\"heat_index\":\"temperature\",\"rh\":\"humidity\",\"wdir\":\"wind_direction\",\"wspd\":\"wind_speed\",\n",
    "                        'NO2': 'NO2_Concentration','NOx': 'NOx_Concentration',\"O3\":\"O3_Concentration\"})\n",
    "df['time'] = pd.to_datetime(df['time'])\n",
    "df.index = df['time']\n",
    "df['time_week'] = df.index.map(lambda x: x.weekday)\n",
    "df['time_year'] = df.index.map(lambda x: x.year)\n",
    "df['time_month'] = df.index.map(lambda x: x.month)\n",
    "df['time_day'] = df.index.map(lambda x: x.day)\n",
    "df['time_hour'] = df.index.map(lambda x: x.hour)\n"
   ]
  },
  {
   "cell_type": "markdown",
   "metadata": {},
   "source": [
    "Choosing Between Base or with weather data"
   ]
  },
  {
   "cell_type": "code",
   "execution_count": 5,
   "metadata": {},
   "outputs": [],
   "source": [
    "#Airs = df[[\"NOx_Concentration\",\"NO2_Concentration\",\"O3_Concentration\",'time_year', 'time_month', 'time_week', 'time_day', \n",
    "#           'time_hour',\"temperature\", \"pressure\", \"humidity\", \"wind_direction\", \"wind_speed\",]].copy()\n",
    "Airs = df[[\"NO2_Concentration\", \"NOx_Concentration\",\"O3_Concentration\"\n",
    " #'time_year', 'time_month', 'time_week', 'time_day', \n",
    "          # 'time_hour',\n",
    "         ]].copy()"
   ]
  },
  {
   "cell_type": "markdown",
   "metadata": {},
   "source": [
    "season_dict={'April':\"summer\",\n",
    "             'May':\"summer\",\n",
    "             'June':\"monsoon\",\n",
    "             'July':\"monsoon\",\n",
    "             \"August\":\"monsoon\",\n",
    "             'September':\"pre-winter\",\n",
    "             'October':\"pre-winter\",\n",
    "             'November':\"winter\",\n",
    "             'December':\"winter\",\n",
    "             'January':\"winter\",\n",
    "             'February':\"winter\"}\n",
    "\n",
    "def datetime_features(df):\n",
    "  df['weekday']=df.timestamp.dt.day_name()\n",
    "  df['month']=df.timestamp.dt.month_name()\n",
    "  df['date']=df.timestamp.dt.strftime(\"%Y-%m-%d\")\n",
    "  df['time']=df.timestamp.dt.strftime(\"%H%M\").astype(\"int\")\n",
    "  df[\"workinghrs\"]=df[\"time\"].apply(lambda x: 1 if x>600 & x<1800 else 0)\n",
    "  df[\"season\"]=df[\"month\"].map(season_dict)"
   ]
  },
  {
   "cell_type": "code",
   "execution_count": 59,
   "metadata": {},
   "outputs": [],
   "source": [
    "Airs = df.drop(columns=[\"wdir_cardinal\",\"time\",\"time_month\", \"time_day\", \"pressure\"])\n"
   ]
  },
  {
   "cell_type": "code",
   "execution_count": 60,
   "metadata": {},
   "outputs": [],
   "source": [
    "listing = []\n",
    "for i in range(35519):\n",
    "    tmp = Airs.iloc[i]\n",
    "    tmp = np.hstack((tmp))\n",
    "    listing.append(tmp)\n",
    "        \n",
    "    "
   ]
  },
  {
   "cell_type": "code",
   "execution_count": 61,
   "metadata": {},
   "outputs": [],
   "source": [
    "NOx_list = Airs['NOx_Concentration'].values\n",
    "NO2_list = Airs['NO2_Concentration'].values\n",
    "O3_list = Airs['O3_Concentration'].values\n",
    "Y_NOx_list = []\n",
    "Y_NO2_list = []\n",
    "Y_O3_list = []\n",
    "\n",
    "X_extend_list = []\n",
    "for i in range(1,35520):\n",
    "    Y_NOx_list.append(NOx_list[i])\n",
    "    Y_NO2_list.append(NO2_list[i])\n",
    "    Y_O3_list.append(O3_list[i])"
   ]
  },
  {
   "cell_type": "code",
   "execution_count": 76,
   "metadata": {},
   "outputs": [],
   "source": [
    "test_x = []\n",
    "for i in range(35519,Airs.shape[0]-7):\n",
    "    tmp = Airs.iloc[i]\n",
    "    tmp = np.hstack((tmp))\n",
    "    test_x.append(tmp)"
   ]
  },
  {
   "cell_type": "code",
   "execution_count": 77,
   "metadata": {},
   "outputs": [],
   "source": [
    "Y_NOx_Test_list = []\n",
    "Y_NO2_Test_list = []\n",
    "Y_O3_Test_list = []\n",
    "for i in range(35520,Airs.shape[0]-6):\n",
    "    Y_NOx_Test_list.append(NOx_list[i])\n",
    "    Y_NO2_Test_list.append(NO2_list[i])\n",
    "    Y_O3_Test_list.append(O3_list[i])"
   ]
  },
  {
   "cell_type": "code",
   "execution_count": 78,
   "metadata": {},
   "outputs": [],
   "source": [
    "Y_Test_NOx = np.vstack(Y_NOx_Test_list)\n",
    "Y_Test_NO2 = np.vstack(Y_NO2_Test_list)\n",
    "Y_Test_O3 = np.vstack(Y_O3_Test_list)\n",
    "Y_Test_NOx = Y_Test_NOx.flatten()\n",
    "Y_Test_NO2 = Y_Test_NO2.flatten()\n",
    "Y_Test_O3 = Y_Test_O3.flatten()\n",
    "X_Test = np.vstack(test_x)"
   ]
  },
  {
   "cell_type": "code",
   "execution_count": 54,
   "metadata": {},
   "outputs": [
    {
     "data": {
      "text/plain": [
       "(3839, 3)"
      ]
     },
     "execution_count": 54,
     "metadata": {},
     "output_type": "execute_result"
    }
   ],
   "source": [
    "X_Test.shape"
   ]
  },
  {
   "cell_type": "code",
   "execution_count": 79,
   "metadata": {},
   "outputs": [],
   "source": [
    "Y_NOx = np.vstack(Y_NOx_list)\n",
    "Y_NO2 = np.vstack(Y_NO2_list)\n",
    "Y_O3 = np.vstack(Y_O3_list)\n",
    "Y_NOx = Y_NOx.flatten()\n",
    "Y_NO2 = Y_NO2.flatten()\n",
    "Y_O3 = Y_O3.flatten()\n",
    "X = np.vstack(listing)"
   ]
  },
  {
   "cell_type": "code",
   "execution_count": 56,
   "metadata": {},
   "outputs": [
    {
     "name": "stdout",
     "output_type": "stream",
     "text": [
      "(35519, 3) (35519,) (35519,)\n"
     ]
    }
   ],
   "source": [
    "print(X.shape,Y_NOx.shape,Y_NO2.shape)"
   ]
  },
  {
   "cell_type": "code",
   "execution_count": 14,
   "metadata": {},
   "outputs": [],
   "source": [
    "#listfeature_name = ['NOx_Concentration','NO2_Concentration',\"time_year\", 'time_month','time_week','time_day','time_hour',]"
   ]
  },
  {
   "cell_type": "code",
   "execution_count": 142,
   "metadata": {},
   "outputs": [],
   "source": [
    "listfeature_name = ['NOx_Concentration','NO2_Concentration',\"O3_Concentration\"]"
   ]
  },
  {
   "cell_type": "code",
   "execution_count": 16,
   "metadata": {},
   "outputs": [],
   "source": [
    "listfeature_name = ['NOx_Concentration','NO2_Concentration',\"O3_Concentration\",\"time_year\", 'time_month',          # feature 0-1# feature 2-6\n",
    "                    'time_week','time_day','time_hour',\n",
    "                    'temperature','pressure','humidity', 'wind_direction', 'wind_speed',#\"NO2ratio\",\"NOxratio\"#\"O3_Concentration\",\n",
    "                    ]"
   ]
  },
  {
   "cell_type": "code",
   "execution_count": 66,
   "metadata": {},
   "outputs": [],
   "source": [
    "listfeature_name = ['NO2_Concentration','NOx_Concentration',\"O3_Concentration\",\"time_year\",          # feature 0-1# feature 2-6\n",
    "                    'time_week','time_hour',\n",
    "                    'temperature','humidity', 'wind_direction', 'wind_speed',#\"NO2ratio\",\"NOxratio\"#\"O3_Concentration\",\n",
    "                    ]"
   ]
  },
  {
   "cell_type": "code",
   "execution_count": 67,
   "metadata": {},
   "outputs": [],
   "source": [
    "def train_test(model_param, train_X, test_X, train_Y, test_Y, save_dir):\n",
    "    time_start = time.time()\n",
    "    lgb_train = lgb.Dataset(train_X, train_Y)\n",
    "    lgb_eval = lgb.Dataset(test_X, test_Y, reference=lgb_train)\n",
    "    params = {\n",
    "    'task': 'train',\n",
    "    'verbosity': -1,\n",
    "    'gpu_use_dp': True,\n",
    "    'device_type': 'gpu',\n",
    "    'boosting_type': 'gbdt',\n",
    "    'objective': 'regression_l1',\n",
    "    'metric': {'mae'},\n",
    "    'max_depth': model_param['depth'], #impact on model performance and train time\n",
    "    'num_leaves': model_param['leaf'],\n",
    "    'min_data_in_leaf': 20,\n",
    "    'learning_rate': model_param['lr'],\n",
    "    'num_threads':7\n",
    "    # 'feature_fraction': 1, #can be used to speed up training and deal with overfitting\n",
    "    # 'bagging_fraction': 0.8,\n",
    "    # 'bagging_freq': 1,\n",
    "    # 'bagging_seed': 3,\n",
    "#     'min_sum_hessian_in_leaf': 100,\n",
    "    }\n",
    "    evaluation_results  = {}\n",
    "\n",
    "    gbm = lgb.train(params,\n",
    "                    train_set = lgb_train,\n",
    "                    num_boost_round=model_param['tree'],\n",
    "                    valid_sets=[lgb_train, lgb_eval],\n",
    "                    valid_names=['Train', 'Valid'],\n",
    "                    #categorical_feature=2,\n",
    "                    #evals_result= evaluation_results,\n",
    "                    #verbose_eval=500,\n",
    "                    #early_stopping_rounds=3,\n",
    "                    feature_name = listfeature_name,\n",
    "                    callbacks=[lgb.early_stopping(stopping_rounds=3),lgb.log_evaluation(period=500),lgb.record_evaluation(eval_result=evaluation_results)]) \n",
    "\n",
    "    test_predict = gbm.predict(test_X)\n",
    "    score = get_score(test_predict, test_Y)\n",
    "    save_pkl(save_dir, gbm)\n",
    "    print('running time: ', time.time() - time_start)\n",
    "\n",
    "    lgb.plot_metric(evaluation_results)\n",
    "    return score"
   ]
  },
  {
   "cell_type": "code",
   "execution_count": 68,
   "metadata": {},
   "outputs": [
    {
     "name": "stdout",
     "output_type": "stream",
     "text": [
      "(28415, 10) (7104, 10) (28415,) (7104,)\n"
     ]
    }
   ],
   "source": [
    "train_X_NOx, test_X_NOx, train_Y_NOx, test_Y_NOx = train_test_split(X, Y_NOx, test_size=0.2,random_state=42)\n",
    "print(train_X_NOx.shape, test_X_NOx.shape, train_Y_NOx.shape, test_Y_NOx.shape)"
   ]
  },
  {
   "cell_type": "code",
   "execution_count": 69,
   "metadata": {},
   "outputs": [
    {
     "name": "stdout",
     "output_type": "stream",
     "text": [
      "Training until validation scores don't improve for 3 rounds\n",
      "Early stopping, best iteration is:\n",
      "[469]\tTrain's l1: 3.41475\tValid's l1: 3.70387\n",
      "running time:  1.7049999237060547\n"
     ]
    },
    {
     "data": {
      "image/png": "[encoded data removed]",
      "text/plain": [
       "<Figure size 432x288 with 1 Axes>"
      ]
     },
     "metadata": {
      "needs_background": "light"
     },
     "output_type": "display_data"
    }
   ],
   "source": [
    "model_param={'lr': 0.1, 'depth': -1, 'tree': 3000, 'leaf': 10}\n",
    "score = train_test(model_param, train_X_NOx, test_X_NOx, train_Y_NOx, test_Y_NOx, \"LightGBM/lightgbm_T_W_NOx_10_1.model\")"
   ]
  },
  {
   "cell_type": "code",
   "execution_count": 175,
   "metadata": {},
   "outputs": [
    {
     "name": "stdout",
     "output_type": "stream",
     "text": [
      "(28415, 10) (7104, 10) (28415,) (7104,)\n"
     ]
    }
   ],
   "source": [
    "train_X_NO2, test_X_NO2, train_Y_NO2, test_Y_NO2 = train_test_split(X, Y_NO2, test_size=0.2,random_state=42)\n",
    "print(train_X_NO2.shape, test_X_NO2.shape, train_Y_NO2.shape, test_Y_NO2.shape)"
   ]
  },
  {
   "cell_type": "code",
   "execution_count": 176,
   "metadata": {},
   "outputs": [
    {
     "name": "stdout",
     "output_type": "stream",
     "text": [
      "Training until validation scores don't improve for 3 rounds\n",
      "Early stopping, best iteration is:\n",
      "[173]\tTrain's l1: 1.08055\tValid's l1: 1.11693\n",
      "running time:  0.4530043601989746\n"
     ]
    },
    {
     "data": {
      "image/png": "[encoded data removed]",
      "text/plain": [
       "<Figure size 432x288 with 1 Axes>"
      ]
     },
     "metadata": {
      "needs_background": "light"
     },
     "output_type": "display_data"
    }
   ],
   "source": [
    "model_param={'lr': 0.1, 'depth': -1, 'tree': 3000, 'leaf': 10}\n",
    "score = train_test(model_param, train_X_NO2, test_X_NO2, train_Y_NO2, test_Y_NO2, \"LightGBM/lightgbm_T_W_NO2_10_1.model\")"
   ]
  },
  {
   "cell_type": "code",
   "execution_count": 177,
   "metadata": {},
   "outputs": [
    {
     "name": "stdout",
     "output_type": "stream",
     "text": [
      "(28415, 10) (7104, 10) (28415,) (7104,)\n"
     ]
    }
   ],
   "source": [
    "train_X_O3, test_X_O3, train_Y_O3, test_Y_O3 = train_test_split(X, Y_O3, test_size=0.2,random_state=42)\n",
    "print(train_X_O3.shape, test_X_O3.shape, train_Y_O3.shape, test_Y_O3.shape)"
   ]
  },
  {
   "cell_type": "code",
   "execution_count": 178,
   "metadata": {},
   "outputs": [
    {
     "name": "stdout",
     "output_type": "stream",
     "text": [
      "Training until validation scores don't improve for 3 rounds\n",
      "Early stopping, best iteration is:\n",
      "[125]\tTrain's l1: 2.24359\tValid's l1: 2.31737\n",
      "running time:  0.38699913024902344\n"
     ]
    },
    {
     "data": {
      "image/png": "[encoded data removed]",
      "text/plain": [
       "<Figure size 432x288 with 1 Axes>"
      ]
     },
     "metadata": {
      "needs_background": "light"
     },
     "output_type": "display_data"
    }
   ],
   "source": [
    "model_param={'lr': 0.1, 'depth': -1, 'tree': 3000, 'leaf': 10}\n",
    "score = train_test(model_param, train_X_O3, test_X_O3, train_Y_O3, test_Y_O3, \"LightGBM/lightgbm_T_W_O3_10_1.model\")"
   ]
  },
  {
   "cell_type": "code",
   "execution_count": 179,
   "metadata": {},
   "outputs": [
    {
     "data": {
      "text/plain": [
       "1.089748016723843"
      ]
     },
     "execution_count": 179,
     "metadata": {},
     "output_type": "execute_result"
    }
   ],
   "source": [
    "gbmNO2 = read_pkl(\"LightGBM/lightgbm_T_W_NO2_10_1.model\")\n",
    "predict_NO2 = gbmNO2.predict(X_Test)\n",
    "score_NO2 = get_score(predict_NO2, Y_Test_NO2)\n",
    "score_NO2"
   ]
  },
  {
   "cell_type": "code",
   "execution_count": 82,
   "metadata": {},
   "outputs": [
    {
     "data": {
      "text/plain": [
       "4.27103705846483"
      ]
     },
     "execution_count": 82,
     "metadata": {},
     "output_type": "execute_result"
    }
   ],
   "source": [
    "gbmNOx = read_pkl(\"LightGBM/lightgbm_T_W_NOx_10_1.model\")\n",
    "predict_NOx = gbmNOx.predict(X_Test)\n",
    "score_NOx = get_score(predict_NOx[:-1], Y_Test_NOx)\n",
    "score_NOx"
   ]
  },
  {
   "cell_type": "code",
   "execution_count": 88,
   "metadata": {},
   "outputs": [
    {
     "ename": "ValueError",
     "evalue": "Found input variables with inconsistent numbers of samples: [3840, 3841]",
     "output_type": "error",
     "traceback": [
      "\u001b[1;31m---------------------------------------------------------------------------\u001b[0m",
      "\u001b[1;31mValueError\u001b[0m                                Traceback (most recent call last)",
      "\u001b[1;32m~\\AppData\\Local\\Temp/ipykernel_7120/1215793288.py\u001b[0m in \u001b[0;36m<module>\u001b[1;34m\u001b[0m\n\u001b[0;32m      1\u001b[0m \u001b[0mgbmO3\u001b[0m \u001b[1;33m=\u001b[0m \u001b[0mread_pkl\u001b[0m\u001b[1;33m(\u001b[0m\u001b[1;34m\"LightGBM/lightgbm_T_W_O3_10_1.model\"\u001b[0m\u001b[1;33m)\u001b[0m\u001b[1;33m\u001b[0m\u001b[1;33m\u001b[0m\u001b[0m\n\u001b[0;32m      2\u001b[0m \u001b[0mpredict_O3\u001b[0m \u001b[1;33m=\u001b[0m \u001b[0mgbmO3\u001b[0m\u001b[1;33m.\u001b[0m\u001b[0mpredict\u001b[0m\u001b[1;33m(\u001b[0m\u001b[0mX_Test\u001b[0m\u001b[1;33m)\u001b[0m\u001b[1;33m\u001b[0m\u001b[1;33m\u001b[0m\u001b[0m\n\u001b[1;32m----> 3\u001b[1;33m \u001b[0mscore_O3\u001b[0m \u001b[1;33m=\u001b[0m \u001b[0mget_score\u001b[0m\u001b[1;33m(\u001b[0m\u001b[0mpredict_O3\u001b[0m\u001b[1;33m,\u001b[0m \u001b[0mY_Test_O3\u001b[0m\u001b[1;33m)\u001b[0m\u001b[1;33m\u001b[0m\u001b[1;33m\u001b[0m\u001b[0m\n\u001b[0m\u001b[0;32m      4\u001b[0m \u001b[0mscore_O3\u001b[0m\u001b[1;33m\u001b[0m\u001b[1;33m\u001b[0m\u001b[0m\n",
      "\u001b[1;32m~\\AppData\\Local\\Temp/ipykernel_7120/3481433240.py\u001b[0m in \u001b[0;36mget_score\u001b[1;34m(valid_y_exp, pred)\u001b[0m\n\u001b[0;32m     10\u001b[0m \u001b[1;33m\u001b[0m\u001b[0m\n\u001b[0;32m     11\u001b[0m \u001b[1;32mdef\u001b[0m \u001b[0mget_score\u001b[0m\u001b[1;33m(\u001b[0m\u001b[0mvalid_y_exp\u001b[0m\u001b[1;33m,\u001b[0m \u001b[0mpred\u001b[0m\u001b[1;33m)\u001b[0m\u001b[1;33m:\u001b[0m\u001b[1;33m\u001b[0m\u001b[1;33m\u001b[0m\u001b[0m\n\u001b[1;32m---> 12\u001b[1;33m     \u001b[1;32mreturn\u001b[0m \u001b[0mmean_absolute_error\u001b[0m\u001b[1;33m(\u001b[0m\u001b[0mpred\u001b[0m\u001b[1;33m,\u001b[0m \u001b[0mvalid_y_exp\u001b[0m\u001b[1;33m)\u001b[0m\u001b[1;33m\u001b[0m\u001b[1;33m\u001b[0m\u001b[0m\n\u001b[0m",
      "\u001b[1;32mc:\\Users\\Nobody\\AppData\\Local\\Programs\\Python\\Python39\\lib\\site-packages\\sklearn\\metrics\\_regression.py\u001b[0m in \u001b[0;36mmean_absolute_error\u001b[1;34m(y_true, y_pred, sample_weight, multioutput)\u001b[0m\n\u001b[0;32m    189\u001b[0m     \u001b[1;36m0.85\u001b[0m\u001b[1;33m...\u001b[0m\u001b[1;33m\u001b[0m\u001b[1;33m\u001b[0m\u001b[0m\n\u001b[0;32m    190\u001b[0m     \"\"\"\n\u001b[1;32m--> 191\u001b[1;33m     y_type, y_true, y_pred, multioutput = _check_reg_targets(\n\u001b[0m\u001b[0;32m    192\u001b[0m         \u001b[0my_true\u001b[0m\u001b[1;33m,\u001b[0m \u001b[0my_pred\u001b[0m\u001b[1;33m,\u001b[0m \u001b[0mmultioutput\u001b[0m\u001b[1;33m\u001b[0m\u001b[1;33m\u001b[0m\u001b[0m\n\u001b[0;32m    193\u001b[0m     )\n",
      "\u001b[1;32mc:\\Users\\Nobody\\AppData\\Local\\Programs\\Python\\Python39\\lib\\site-packages\\sklearn\\metrics\\_regression.py\u001b[0m in \u001b[0;36m_check_reg_targets\u001b[1;34m(y_true, y_pred, multioutput, dtype)\u001b[0m\n\u001b[0;32m     92\u001b[0m         \u001b[0mthe\u001b[0m \u001b[0mdtype\u001b[0m \u001b[0margument\u001b[0m \u001b[0mpassed\u001b[0m \u001b[0mto\u001b[0m \u001b[0mcheck_array\u001b[0m\u001b[1;33m.\u001b[0m\u001b[1;33m\u001b[0m\u001b[1;33m\u001b[0m\u001b[0m\n\u001b[0;32m     93\u001b[0m     \"\"\"\n\u001b[1;32m---> 94\u001b[1;33m     \u001b[0mcheck_consistent_length\u001b[0m\u001b[1;33m(\u001b[0m\u001b[0my_true\u001b[0m\u001b[1;33m,\u001b[0m \u001b[0my_pred\u001b[0m\u001b[1;33m)\u001b[0m\u001b[1;33m\u001b[0m\u001b[1;33m\u001b[0m\u001b[0m\n\u001b[0m\u001b[0;32m     95\u001b[0m     \u001b[0my_true\u001b[0m \u001b[1;33m=\u001b[0m \u001b[0mcheck_array\u001b[0m\u001b[1;33m(\u001b[0m\u001b[0my_true\u001b[0m\u001b[1;33m,\u001b[0m \u001b[0mensure_2d\u001b[0m\u001b[1;33m=\u001b[0m\u001b[1;32mFalse\u001b[0m\u001b[1;33m,\u001b[0m \u001b[0mdtype\u001b[0m\u001b[1;33m=\u001b[0m\u001b[0mdtype\u001b[0m\u001b[1;33m)\u001b[0m\u001b[1;33m\u001b[0m\u001b[1;33m\u001b[0m\u001b[0m\n\u001b[0;32m     96\u001b[0m     \u001b[0my_pred\u001b[0m \u001b[1;33m=\u001b[0m \u001b[0mcheck_array\u001b[0m\u001b[1;33m(\u001b[0m\u001b[0my_pred\u001b[0m\u001b[1;33m,\u001b[0m \u001b[0mensure_2d\u001b[0m\u001b[1;33m=\u001b[0m\u001b[1;32mFalse\u001b[0m\u001b[1;33m,\u001b[0m \u001b[0mdtype\u001b[0m\u001b[1;33m=\u001b[0m\u001b[0mdtype\u001b[0m\u001b[1;33m)\u001b[0m\u001b[1;33m\u001b[0m\u001b[1;33m\u001b[0m\u001b[0m\n",
      "\u001b[1;32mc:\\Users\\Nobody\\AppData\\Local\\Programs\\Python\\Python39\\lib\\site-packages\\sklearn\\utils\\validation.py\u001b[0m in \u001b[0;36mcheck_consistent_length\u001b[1;34m(*arrays)\u001b[0m\n\u001b[0;32m    330\u001b[0m     \u001b[0muniques\u001b[0m \u001b[1;33m=\u001b[0m \u001b[0mnp\u001b[0m\u001b[1;33m.\u001b[0m\u001b[0munique\u001b[0m\u001b[1;33m(\u001b[0m\u001b[0mlengths\u001b[0m\u001b[1;33m)\u001b[0m\u001b[1;33m\u001b[0m\u001b[1;33m\u001b[0m\u001b[0m\n\u001b[0;32m    331\u001b[0m     \u001b[1;32mif\u001b[0m \u001b[0mlen\u001b[0m\u001b[1;33m(\u001b[0m\u001b[0muniques\u001b[0m\u001b[1;33m)\u001b[0m \u001b[1;33m>\u001b[0m \u001b[1;36m1\u001b[0m\u001b[1;33m:\u001b[0m\u001b[1;33m\u001b[0m\u001b[1;33m\u001b[0m\u001b[0m\n\u001b[1;32m--> 332\u001b[1;33m         raise ValueError(\n\u001b[0m\u001b[0;32m    333\u001b[0m             \u001b[1;34m\"Found input variables with inconsistent numbers of samples: %r\"\u001b[0m\u001b[1;33m\u001b[0m\u001b[1;33m\u001b[0m\u001b[0m\n\u001b[0;32m    334\u001b[0m             \u001b[1;33m%\u001b[0m \u001b[1;33m[\u001b[0m\u001b[0mint\u001b[0m\u001b[1;33m(\u001b[0m\u001b[0ml\u001b[0m\u001b[1;33m)\u001b[0m \u001b[1;32mfor\u001b[0m \u001b[0ml\u001b[0m \u001b[1;32min\u001b[0m \u001b[0mlengths\u001b[0m\u001b[1;33m]\u001b[0m\u001b[1;33m\u001b[0m\u001b[1;33m\u001b[0m\u001b[0m\n",
      "\u001b[1;31mValueError\u001b[0m: Found input variables with inconsistent numbers of samples: [3840, 3841]"
     ]
    }
   ],
   "source": [
    "gbmO3 = read_pkl(\"LightGBM/lightgbm_T_W_O3_10_1.model\")\n",
    "predict_O3 = gbmO3.predict(X_Test)\n",
    "score_O3 = get_score(predict_O3, Y_Test_O3)\n",
    "score_O3"
   ]
  },
  {
   "cell_type": "code",
   "execution_count": 86,
   "metadata": {},
   "outputs": [],
   "source": [
    "predictionsDf = pd.DataFrame({\"Pred_NO2\":predict_NO2,\"Pred_NOx\":predict_NOx,\"Pred_O3\":predict_O3})\n",
    "predictionsDf = predictionsDf.round(2)\n",
    "predictionsDf.to_csv(\"LightGBM/AAl_T_Prediction.csv\",index=False)"
   ]
  },
  {
   "cell_type": "code",
   "execution_count": 87,
   "metadata": {},
   "outputs": [],
   "source": [
    "realDF = pd.DataFrame({\"Real_NO2\":Y_Test_NO2,\"Real_NOx\":Y_Test_NOx,\"Real_O3\":Y_Test_O3})\n",
    "realDF.to_csv(\"LightGBM/AAl_T_Real.csv\",index=False)"
   ]
  },
  {
   "cell_type": "code",
   "execution_count": 189,
   "metadata": {},
   "outputs": [
    {
     "data": {
      "image/png": "[encoded data removed]",
      "text/plain": [
       "<Figure size 360x360 with 1 Axes>"
      ]
     },
     "metadata": {
      "needs_background": "light"
     },
     "output_type": "display_data"
    }
   ],
   "source": [
    "ax = lgb.plot_importance(gbmNOx,figsize=(5,5),importance_type=\"auto\")\n",
    "plt.title(\"LightGBM Feature Importance (NOx)\")\n",
    "plt.show()"
   ]
  },
  {
   "cell_type": "code",
   "execution_count": 87,
   "metadata": {},
   "outputs": [
    {
     "ename": "NameError",
     "evalue": "name 'predict_NO2' is not defined",
     "output_type": "error",
     "traceback": [
      "\u001b[1;31m---------------------------------------------------------------------------\u001b[0m",
      "\u001b[1;31mNameError\u001b[0m                                 Traceback (most recent call last)",
      "\u001b[1;32m~\\AppData\\Local\\Temp/ipykernel_7120/4104898717.py\u001b[0m in \u001b[0;36m<module>\u001b[1;34m\u001b[0m\n\u001b[0;32m      1\u001b[0m \u001b[0mplt\u001b[0m\u001b[1;33m.\u001b[0m\u001b[0mfigure\u001b[0m\u001b[1;33m(\u001b[0m\u001b[0mnum\u001b[0m\u001b[1;33m=\u001b[0m\u001b[1;32mNone\u001b[0m\u001b[1;33m,\u001b[0m\u001b[0mdpi\u001b[0m\u001b[1;33m=\u001b[0m\u001b[1;36m70\u001b[0m\u001b[1;33m,\u001b[0m \u001b[0mfigsize\u001b[0m\u001b[1;33m=\u001b[0m\u001b[1;33m(\u001b[0m\u001b[1;36m10\u001b[0m\u001b[1;33m,\u001b[0m \u001b[1;36m6\u001b[0m\u001b[1;33m)\u001b[0m\u001b[1;33m,\u001b[0m\u001b[0mfacecolor\u001b[0m\u001b[1;33m=\u001b[0m\u001b[1;34m'w'\u001b[0m\u001b[1;33m,\u001b[0m \u001b[0medgecolor\u001b[0m\u001b[1;33m=\u001b[0m\u001b[1;34m'k'\u001b[0m\u001b[1;33m)\u001b[0m\u001b[1;33m\u001b[0m\u001b[1;33m\u001b[0m\u001b[0m\n\u001b[1;32m----> 2\u001b[1;33m \u001b[0mplt\u001b[0m\u001b[1;33m.\u001b[0m\u001b[0mplot\u001b[0m\u001b[1;33m(\u001b[0m\u001b[0mpredict_NO2\u001b[0m\u001b[1;33m[\u001b[0m\u001b[1;36m48\u001b[0m\u001b[1;33m:\u001b[0m\u001b[1;36m548\u001b[0m\u001b[1;33m]\u001b[0m\u001b[1;33m,\u001b[0m \u001b[1;34m\"-b\"\u001b[0m\u001b[1;33m,\u001b[0m\u001b[0mlinewidth\u001b[0m\u001b[1;33m=\u001b[0m\u001b[1;36m3\u001b[0m\u001b[1;33m,\u001b[0m  \u001b[0mlabel\u001b[0m\u001b[1;33m=\u001b[0m\u001b[1;34m'Predicted value'\u001b[0m\u001b[1;33m)\u001b[0m\u001b[1;33m\u001b[0m\u001b[1;33m\u001b[0m\u001b[0m\n\u001b[0m\u001b[0;32m      3\u001b[0m \u001b[0mplt\u001b[0m\u001b[1;33m.\u001b[0m\u001b[0mplot\u001b[0m\u001b[1;33m(\u001b[0m\u001b[0mY_Test_NO2\u001b[0m\u001b[1;33m[\u001b[0m\u001b[1;36m0\u001b[0m\u001b[1;33m:\u001b[0m\u001b[1;36m548\u001b[0m\u001b[1;33m]\u001b[0m\u001b[1;33m,\u001b[0m \u001b[1;34m\"-r\"\u001b[0m\u001b[1;33m,\u001b[0m \u001b[0mlabel\u001b[0m\u001b[1;33m=\u001b[0m\u001b[1;34m'Real values'\u001b[0m\u001b[1;33m,\u001b[0m \u001b[1;33m)\u001b[0m\u001b[1;33m\u001b[0m\u001b[1;33m\u001b[0m\u001b[0m\n\u001b[0;32m      4\u001b[0m \u001b[0mplt\u001b[0m\u001b[1;33m.\u001b[0m\u001b[0mlegend\u001b[0m\u001b[1;33m(\u001b[0m\u001b[0mloc\u001b[0m\u001b[1;33m=\u001b[0m\u001b[1;34m\"upper left\"\u001b[0m\u001b[1;33m)\u001b[0m\u001b[1;33m\u001b[0m\u001b[1;33m\u001b[0m\u001b[0m\n\u001b[0;32m      5\u001b[0m \u001b[0mplt\u001b[0m\u001b[1;33m.\u001b[0m\u001b[0mtitle\u001b[0m\u001b[1;33m(\u001b[0m\u001b[1;34m'NO2 comparisons'\u001b[0m\u001b[1;33m,\u001b[0m \u001b[0mx\u001b[0m\u001b[1;33m=\u001b[0m\u001b[1;36m0.45\u001b[0m\u001b[1;33m,\u001b[0m \u001b[0my\u001b[0m\u001b[1;33m=\u001b[0m\u001b[1;36m0.8\u001b[0m\u001b[1;33m,\u001b[0m \u001b[0mloc\u001b[0m\u001b[1;33m=\u001b[0m\u001b[1;34m'right'\u001b[0m\u001b[1;33m)\u001b[0m\u001b[1;33m\u001b[0m\u001b[1;33m\u001b[0m\u001b[0m\n",
      "\u001b[1;31mNameError\u001b[0m: name 'predict_NO2' is not defined"
     ]
    },
    {
     "data": {
      "text/plain": [
       "<Figure size 700x420 with 0 Axes>"
      ]
     },
     "metadata": {},
     "output_type": "display_data"
    }
   ],
   "source": [
    "plt.figure(num=None,dpi=70, figsize=(10, 6),facecolor='w', edgecolor='k')\n",
    "plt.plot(predict_NO2[48:548], \"-b\",linewidth=3,  label='Predicted value')\n",
    "plt.plot(Y_Test_NO2[48:548], \"-r\", label='Real values', )\n",
    "plt.legend(loc=\"upper left\")\n",
    "plt.title('NO2 comparisons', x=0.45, y=0.8, loc='right')\n",
    "plt.show()"
   ]
  }
 ],
 "metadata": {
  "interpreter": {
   "hash": "1613ea51840f1410cf15fd1d67f805b84787e66c01b705b597849b51156bc7f8"
  },
  "kernelspec": {
   "display_name": "Python 3.9.6 64-bit",
   "language": "python",
   "name": "python3"
  },
  "language_info": {
   "codemirror_mode": {
    "name": "ipython",
    "version": 3
   },
   "file_extension": ".py",
   "mimetype": "text/x-python",
   "name": "python",
   "nbconvert_exporter": "python",
   "pygments_lexer": "ipython3",
   "version": "3.9.6"
  },
  "orig_nbformat": 4
 },
 "nbformat": 4,
 "nbformat_minor": 2
}
