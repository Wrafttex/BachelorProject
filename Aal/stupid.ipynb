{
 "cells": [
  {
   "cell_type": "code",
   "execution_count": 1,
   "metadata": {},
   "outputs": [],
   "source": [
    "import pandas as pd"
   ]
  },
  {
   "cell_type": "code",
   "execution_count": 11,
   "metadata": {},
   "outputs": [],
   "source": [
    "df = pd.read_csv(\"holiday_aal.csv\")"
   ]
  },
  {
   "cell_type": "code",
   "execution_count": 12,
   "metadata": {},
   "outputs": [],
   "source": [
    "weekend = 1\n",
    "for i in range(0,df.shape[0]):\n",
    "    if weekend % 6==0:\n",
    "        df.iloc[i,1] = 1\n",
    "        weekend += 1\n",
    "    elif weekend % 7==0:\n",
    "        df.iloc[i,1] = 1\n",
    "        weekend = 1\n",
    "    else:\n",
    "        df.iloc[i,1] = 0\n",
    "        weekend += 1\n",
    "\n",
    "df[\"holiday\"] = df[\"holiday\"].astype(int)\n",
    "df.to_csv(\"holiday_aal2.csv\",index=False)"
   ]
  }
 ],
 "metadata": {
  "interpreter": {
   "hash": "6ceb70875582159136b9c7d207ebd2016435d2a136370e35b97c5e7cd11b8213"
  },
  "kernelspec": {
   "display_name": "Python 3.9.6 64-bit",
   "language": "python",
   "name": "python3"
  },
  "language_info": {
   "codemirror_mode": {
    "name": "ipython",
    "version": 3
   },
   "file_extension": ".py",
   "mimetype": "text/x-python",
   "name": "python",
   "nbconvert_exporter": "python",
   "pygments_lexer": "ipython3",
   "version": "3.9.6"
  },
  "orig_nbformat": 4
 },
 "nbformat": 4,
 "nbformat_minor": 2
}
