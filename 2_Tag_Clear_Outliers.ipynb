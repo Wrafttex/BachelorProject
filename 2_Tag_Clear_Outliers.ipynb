{
 "cells": [
  {
   "cell_type": "code",
   "execution_count": 1,
   "metadata": {},
   "outputs": [],
   "source": [
    "import pandas as pd\n",
    "import math"
   ]
  },
  {
   "cell_type": "code",
   "execution_count": 100,
   "metadata": {},
   "outputs": [],
   "source": [
    "df = pd.read_csv(\"dataset/Aalborg_Tag.csv\",sep=\";\")\n",
    "df[\"Recorded\"] = pd.to_datetime(df[\"Recorded\"], format=\"%d-%m-%Y %H:%M:%S\")\n"
   ]
  },
  {
   "cell_type": "code",
   "execution_count": 101,
   "metadata": {},
   "outputs": [],
   "source": [
    "newdf = df.groupby([df[\"Recorded\"].dt.year,df[\"Recorded\"].dt.month,df[\"Recorded\"].dt.hour,df[\"Recorded\"].dt.minute]).mean()\n",
    "newdf.index.names = [\"year\",\"month\",\"hour\",\"minute\"]\n"
   ]
  },
  {
   "cell_type": "code",
   "execution_count": 102,
   "metadata": {},
   "outputs": [],
   "source": [
    "emptydf = pd.DataFrame(index=[201912,202001,202002,202003,202004,202005,202006,202007,202008,202009,202010,202011,202012,202101,202102,202103,202104,202105,202106,\n",
    "                              202107,202108,202109,202110,202111,202112,202201,202202,202203#,202204,202205,202206,202207,202208,202209,202210,202211,202212\n",
    "                              ])"
   ]
  },
  {
   "cell_type": "code",
   "execution_count": 103,
   "metadata": {},
   "outputs": [
    {
     "name": "stderr",
     "output_type": "stream",
     "text": [
      "C:\\Users\\Nobody\\AppData\\Local\\Temp/ipykernel_12496/1648068968.py:5: PerformanceWarning: DataFrame is highly fragmented.  This is usually the result of calling `frame.insert` many times, which has poor performance.  Consider joining all columns at once using pd.concat(axis=1) instead. To get a de-fragmented frame, use `newframe = frame.copy()`\n",
      "  emptydf[aq+ \"_\" + str(i) +\":\"+ str(j)] = 1\n",
      "C:\\Users\\Nobody\\AppData\\Local\\Temp/ipykernel_12496/1648068968.py:5: PerformanceWarning: DataFrame is highly fragmented.  This is usually the result of calling `frame.insert` many times, which has poor performance.  Consider joining all columns at once using pd.concat(axis=1) instead. To get a de-fragmented frame, use `newframe = frame.copy()`\n",
      "  emptydf[aq+ \"_\" + str(i) +\":\"+ str(j)] = 1\n",
      "C:\\Users\\Nobody\\AppData\\Local\\Temp/ipykernel_12496/1648068968.py:5: PerformanceWarning: DataFrame is highly fragmented.  This is usually the result of calling `frame.insert` many times, which has poor performance.  Consider joining all columns at once using pd.concat(axis=1) instead. To get a de-fragmented frame, use `newframe = frame.copy()`\n",
      "  emptydf[aq+ \"_\" + str(i) +\":\"+ str(j)] = 1\n",
      "C:\\Users\\Nobody\\AppData\\Local\\Temp/ipykernel_12496/1648068968.py:5: PerformanceWarning: DataFrame is highly fragmented.  This is usually the result of calling `frame.insert` many times, which has poor performance.  Consider joining all columns at once using pd.concat(axis=1) instead. To get a de-fragmented frame, use `newframe = frame.copy()`\n",
      "  emptydf[aq+ \"_\" + str(i) +\":\"+ str(j)] = 1\n",
      "C:\\Users\\Nobody\\AppData\\Local\\Temp/ipykernel_12496/1648068968.py:5: PerformanceWarning: DataFrame is highly fragmented.  This is usually the result of calling `frame.insert` many times, which has poor performance.  Consider joining all columns at once using pd.concat(axis=1) instead. To get a de-fragmented frame, use `newframe = frame.copy()`\n",
      "  emptydf[aq+ \"_\" + str(i) +\":\"+ str(j)] = 1\n",
      "C:\\Users\\Nobody\\AppData\\Local\\Temp/ipykernel_12496/1648068968.py:5: PerformanceWarning: DataFrame is highly fragmented.  This is usually the result of calling `frame.insert` many times, which has poor performance.  Consider joining all columns at once using pd.concat(axis=1) instead. To get a de-fragmented frame, use `newframe = frame.copy()`\n",
      "  emptydf[aq+ \"_\" + str(i) +\":\"+ str(j)] = 1\n",
      "C:\\Users\\Nobody\\AppData\\Local\\Temp/ipykernel_12496/1648068968.py:5: PerformanceWarning: DataFrame is highly fragmented.  This is usually the result of calling `frame.insert` many times, which has poor performance.  Consider joining all columns at once using pd.concat(axis=1) instead. To get a de-fragmented frame, use `newframe = frame.copy()`\n",
      "  emptydf[aq+ \"_\" + str(i) +\":\"+ str(j)] = 1\n",
      "C:\\Users\\Nobody\\AppData\\Local\\Temp/ipykernel_12496/1648068968.py:5: PerformanceWarning: DataFrame is highly fragmented.  This is usually the result of calling `frame.insert` many times, which has poor performance.  Consider joining all columns at once using pd.concat(axis=1) instead. To get a de-fragmented frame, use `newframe = frame.copy()`\n",
      "  emptydf[aq+ \"_\" + str(i) +\":\"+ str(j)] = 1\n",
      "C:\\Users\\Nobody\\AppData\\Local\\Temp/ipykernel_12496/1648068968.py:5: PerformanceWarning: DataFrame is highly fragmented.  This is usually the result of calling `frame.insert` many times, which has poor performance.  Consider joining all columns at once using pd.concat(axis=1) instead. To get a de-fragmented frame, use `newframe = frame.copy()`\n",
      "  emptydf[aq+ \"_\" + str(i) +\":\"+ str(j)] = 1\n",
      "C:\\Users\\Nobody\\AppData\\Local\\Temp/ipykernel_12496/1648068968.py:5: PerformanceWarning: DataFrame is highly fragmented.  This is usually the result of calling `frame.insert` many times, which has poor performance.  Consider joining all columns at once using pd.concat(axis=1) instead. To get a de-fragmented frame, use `newframe = frame.copy()`\n",
      "  emptydf[aq+ \"_\" + str(i) +\":\"+ str(j)] = 1\n",
      "C:\\Users\\Nobody\\AppData\\Local\\Temp/ipykernel_12496/1648068968.py:5: PerformanceWarning: DataFrame is highly fragmented.  This is usually the result of calling `frame.insert` many times, which has poor performance.  Consider joining all columns at once using pd.concat(axis=1) instead. To get a de-fragmented frame, use `newframe = frame.copy()`\n",
      "  emptydf[aq+ \"_\" + str(i) +\":\"+ str(j)] = 1\n",
      "C:\\Users\\Nobody\\AppData\\Local\\Temp/ipykernel_12496/1648068968.py:5: PerformanceWarning: DataFrame is highly fragmented.  This is usually the result of calling `frame.insert` many times, which has poor performance.  Consider joining all columns at once using pd.concat(axis=1) instead. To get a de-fragmented frame, use `newframe = frame.copy()`\n",
      "  emptydf[aq+ \"_\" + str(i) +\":\"+ str(j)] = 1\n",
      "C:\\Users\\Nobody\\AppData\\Local\\Temp/ipykernel_12496/1648068968.py:5: PerformanceWarning: DataFrame is highly fragmented.  This is usually the result of calling `frame.insert` many times, which has poor performance.  Consider joining all columns at once using pd.concat(axis=1) instead. To get a de-fragmented frame, use `newframe = frame.copy()`\n",
      "  emptydf[aq+ \"_\" + str(i) +\":\"+ str(j)] = 1\n",
      "C:\\Users\\Nobody\\AppData\\Local\\Temp/ipykernel_12496/1648068968.py:5: PerformanceWarning: DataFrame is highly fragmented.  This is usually the result of calling `frame.insert` many times, which has poor performance.  Consider joining all columns at once using pd.concat(axis=1) instead. To get a de-fragmented frame, use `newframe = frame.copy()`\n",
      "  emptydf[aq+ \"_\" + str(i) +\":\"+ str(j)] = 1\n",
      "C:\\Users\\Nobody\\AppData\\Local\\Temp/ipykernel_12496/1648068968.py:5: PerformanceWarning: DataFrame is highly fragmented.  This is usually the result of calling `frame.insert` many times, which has poor performance.  Consider joining all columns at once using pd.concat(axis=1) instead. To get a de-fragmented frame, use `newframe = frame.copy()`\n",
      "  emptydf[aq+ \"_\" + str(i) +\":\"+ str(j)] = 1\n",
      "C:\\Users\\Nobody\\AppData\\Local\\Temp/ipykernel_12496/1648068968.py:5: PerformanceWarning: DataFrame is highly fragmented.  This is usually the result of calling `frame.insert` many times, which has poor performance.  Consider joining all columns at once using pd.concat(axis=1) instead. To get a de-fragmented frame, use `newframe = frame.copy()`\n",
      "  emptydf[aq+ \"_\" + str(i) +\":\"+ str(j)] = 1\n",
      "C:\\Users\\Nobody\\AppData\\Local\\Temp/ipykernel_12496/1648068968.py:5: PerformanceWarning: DataFrame is highly fragmented.  This is usually the result of calling `frame.insert` many times, which has poor performance.  Consider joining all columns at once using pd.concat(axis=1) instead. To get a de-fragmented frame, use `newframe = frame.copy()`\n",
      "  emptydf[aq+ \"_\" + str(i) +\":\"+ str(j)] = 1\n",
      "C:\\Users\\Nobody\\AppData\\Local\\Temp/ipykernel_12496/1648068968.py:5: PerformanceWarning: DataFrame is highly fragmented.  This is usually the result of calling `frame.insert` many times, which has poor performance.  Consider joining all columns at once using pd.concat(axis=1) instead. To get a de-fragmented frame, use `newframe = frame.copy()`\n",
      "  emptydf[aq+ \"_\" + str(i) +\":\"+ str(j)] = 1\n",
      "C:\\Users\\Nobody\\AppData\\Local\\Temp/ipykernel_12496/1648068968.py:5: PerformanceWarning: DataFrame is highly fragmented.  This is usually the result of calling `frame.insert` many times, which has poor performance.  Consider joining all columns at once using pd.concat(axis=1) instead. To get a de-fragmented frame, use `newframe = frame.copy()`\n",
      "  emptydf[aq+ \"_\" + str(i) +\":\"+ str(j)] = 1\n",
      "C:\\Users\\Nobody\\AppData\\Local\\Temp/ipykernel_12496/1648068968.py:5: PerformanceWarning: DataFrame is highly fragmented.  This is usually the result of calling `frame.insert` many times, which has poor performance.  Consider joining all columns at once using pd.concat(axis=1) instead. To get a de-fragmented frame, use `newframe = frame.copy()`\n",
      "  emptydf[aq+ \"_\" + str(i) +\":\"+ str(j)] = 1\n",
      "C:\\Users\\Nobody\\AppData\\Local\\Temp/ipykernel_12496/1648068968.py:5: PerformanceWarning: DataFrame is highly fragmented.  This is usually the result of calling `frame.insert` many times, which has poor performance.  Consider joining all columns at once using pd.concat(axis=1) instead. To get a de-fragmented frame, use `newframe = frame.copy()`\n",
      "  emptydf[aq+ \"_\" + str(i) +\":\"+ str(j)] = 1\n",
      "C:\\Users\\Nobody\\AppData\\Local\\Temp/ipykernel_12496/1648068968.py:5: PerformanceWarning: DataFrame is highly fragmented.  This is usually the result of calling `frame.insert` many times, which has poor performance.  Consider joining all columns at once using pd.concat(axis=1) instead. To get a de-fragmented frame, use `newframe = frame.copy()`\n",
      "  emptydf[aq+ \"_\" + str(i) +\":\"+ str(j)] = 1\n",
      "C:\\Users\\Nobody\\AppData\\Local\\Temp/ipykernel_12496/1648068968.py:5: PerformanceWarning: DataFrame is highly fragmented.  This is usually the result of calling `frame.insert` many times, which has poor performance.  Consider joining all columns at once using pd.concat(axis=1) instead. To get a de-fragmented frame, use `newframe = frame.copy()`\n",
      "  emptydf[aq+ \"_\" + str(i) +\":\"+ str(j)] = 1\n",
      "C:\\Users\\Nobody\\AppData\\Local\\Temp/ipykernel_12496/1648068968.py:5: PerformanceWarning: DataFrame is highly fragmented.  This is usually the result of calling `frame.insert` many times, which has poor performance.  Consider joining all columns at once using pd.concat(axis=1) instead. To get a de-fragmented frame, use `newframe = frame.copy()`\n",
      "  emptydf[aq+ \"_\" + str(i) +\":\"+ str(j)] = 1\n",
      "C:\\Users\\Nobody\\AppData\\Local\\Temp/ipykernel_12496/1648068968.py:5: PerformanceWarning: DataFrame is highly fragmented.  This is usually the result of calling `frame.insert` many times, which has poor performance.  Consider joining all columns at once using pd.concat(axis=1) instead. To get a de-fragmented frame, use `newframe = frame.copy()`\n",
      "  emptydf[aq+ \"_\" + str(i) +\":\"+ str(j)] = 1\n",
      "C:\\Users\\Nobody\\AppData\\Local\\Temp/ipykernel_12496/1648068968.py:5: PerformanceWarning: DataFrame is highly fragmented.  This is usually the result of calling `frame.insert` many times, which has poor performance.  Consider joining all columns at once using pd.concat(axis=1) instead. To get a de-fragmented frame, use `newframe = frame.copy()`\n",
      "  emptydf[aq+ \"_\" + str(i) +\":\"+ str(j)] = 1\n",
      "C:\\Users\\Nobody\\AppData\\Local\\Temp/ipykernel_12496/1648068968.py:5: PerformanceWarning: DataFrame is highly fragmented.  This is usually the result of calling `frame.insert` many times, which has poor performance.  Consider joining all columns at once using pd.concat(axis=1) instead. To get a de-fragmented frame, use `newframe = frame.copy()`\n",
      "  emptydf[aq+ \"_\" + str(i) +\":\"+ str(j)] = 1\n",
      "C:\\Users\\Nobody\\AppData\\Local\\Temp/ipykernel_12496/1648068968.py:5: PerformanceWarning: DataFrame is highly fragmented.  This is usually the result of calling `frame.insert` many times, which has poor performance.  Consider joining all columns at once using pd.concat(axis=1) instead. To get a de-fragmented frame, use `newframe = frame.copy()`\n",
      "  emptydf[aq+ \"_\" + str(i) +\":\"+ str(j)] = 1\n",
      "C:\\Users\\Nobody\\AppData\\Local\\Temp/ipykernel_12496/1648068968.py:5: PerformanceWarning: DataFrame is highly fragmented.  This is usually the result of calling `frame.insert` many times, which has poor performance.  Consider joining all columns at once using pd.concat(axis=1) instead. To get a de-fragmented frame, use `newframe = frame.copy()`\n",
      "  emptydf[aq+ \"_\" + str(i) +\":\"+ str(j)] = 1\n",
      "C:\\Users\\Nobody\\AppData\\Local\\Temp/ipykernel_12496/1648068968.py:5: PerformanceWarning: DataFrame is highly fragmented.  This is usually the result of calling `frame.insert` many times, which has poor performance.  Consider joining all columns at once using pd.concat(axis=1) instead. To get a de-fragmented frame, use `newframe = frame.copy()`\n",
      "  emptydf[aq+ \"_\" + str(i) +\":\"+ str(j)] = 1\n",
      "C:\\Users\\Nobody\\AppData\\Local\\Temp/ipykernel_12496/1648068968.py:5: PerformanceWarning: DataFrame is highly fragmented.  This is usually the result of calling `frame.insert` many times, which has poor performance.  Consider joining all columns at once using pd.concat(axis=1) instead. To get a de-fragmented frame, use `newframe = frame.copy()`\n",
      "  emptydf[aq+ \"_\" + str(i) +\":\"+ str(j)] = 1\n",
      "C:\\Users\\Nobody\\AppData\\Local\\Temp/ipykernel_12496/1648068968.py:5: PerformanceWarning: DataFrame is highly fragmented.  This is usually the result of calling `frame.insert` many times, which has poor performance.  Consider joining all columns at once using pd.concat(axis=1) instead. To get a de-fragmented frame, use `newframe = frame.copy()`\n",
      "  emptydf[aq+ \"_\" + str(i) +\":\"+ str(j)] = 1\n",
      "C:\\Users\\Nobody\\AppData\\Local\\Temp/ipykernel_12496/1648068968.py:5: PerformanceWarning: DataFrame is highly fragmented.  This is usually the result of calling `frame.insert` many times, which has poor performance.  Consider joining all columns at once using pd.concat(axis=1) instead. To get a de-fragmented frame, use `newframe = frame.copy()`\n",
      "  emptydf[aq+ \"_\" + str(i) +\":\"+ str(j)] = 1\n",
      "C:\\Users\\Nobody\\AppData\\Local\\Temp/ipykernel_12496/1648068968.py:5: PerformanceWarning: DataFrame is highly fragmented.  This is usually the result of calling `frame.insert` many times, which has poor performance.  Consider joining all columns at once using pd.concat(axis=1) instead. To get a de-fragmented frame, use `newframe = frame.copy()`\n",
      "  emptydf[aq+ \"_\" + str(i) +\":\"+ str(j)] = 1\n",
      "C:\\Users\\Nobody\\AppData\\Local\\Temp/ipykernel_12496/1648068968.py:5: PerformanceWarning: DataFrame is highly fragmented.  This is usually the result of calling `frame.insert` many times, which has poor performance.  Consider joining all columns at once using pd.concat(axis=1) instead. To get a de-fragmented frame, use `newframe = frame.copy()`\n",
      "  emptydf[aq+ \"_\" + str(i) +\":\"+ str(j)] = 1\n",
      "C:\\Users\\Nobody\\AppData\\Local\\Temp/ipykernel_12496/1648068968.py:5: PerformanceWarning: DataFrame is highly fragmented.  This is usually the result of calling `frame.insert` many times, which has poor performance.  Consider joining all columns at once using pd.concat(axis=1) instead. To get a de-fragmented frame, use `newframe = frame.copy()`\n",
      "  emptydf[aq+ \"_\" + str(i) +\":\"+ str(j)] = 1\n",
      "C:\\Users\\Nobody\\AppData\\Local\\Temp/ipykernel_12496/1648068968.py:5: PerformanceWarning: DataFrame is highly fragmented.  This is usually the result of calling `frame.insert` many times, which has poor performance.  Consider joining all columns at once using pd.concat(axis=1) instead. To get a de-fragmented frame, use `newframe = frame.copy()`\n",
      "  emptydf[aq+ \"_\" + str(i) +\":\"+ str(j)] = 1\n",
      "C:\\Users\\Nobody\\AppData\\Local\\Temp/ipykernel_12496/1648068968.py:5: PerformanceWarning: DataFrame is highly fragmented.  This is usually the result of calling `frame.insert` many times, which has poor performance.  Consider joining all columns at once using pd.concat(axis=1) instead. To get a de-fragmented frame, use `newframe = frame.copy()`\n",
      "  emptydf[aq+ \"_\" + str(i) +\":\"+ str(j)] = 1\n",
      "C:\\Users\\Nobody\\AppData\\Local\\Temp/ipykernel_12496/1648068968.py:5: PerformanceWarning: DataFrame is highly fragmented.  This is usually the result of calling `frame.insert` many times, which has poor performance.  Consider joining all columns at once using pd.concat(axis=1) instead. To get a de-fragmented frame, use `newframe = frame.copy()`\n",
      "  emptydf[aq+ \"_\" + str(i) +\":\"+ str(j)] = 1\n",
      "C:\\Users\\Nobody\\AppData\\Local\\Temp/ipykernel_12496/1648068968.py:5: PerformanceWarning: DataFrame is highly fragmented.  This is usually the result of calling `frame.insert` many times, which has poor performance.  Consider joining all columns at once using pd.concat(axis=1) instead. To get a de-fragmented frame, use `newframe = frame.copy()`\n",
      "  emptydf[aq+ \"_\" + str(i) +\":\"+ str(j)] = 1\n",
      "C:\\Users\\Nobody\\AppData\\Local\\Temp/ipykernel_12496/1648068968.py:5: PerformanceWarning: DataFrame is highly fragmented.  This is usually the result of calling `frame.insert` many times, which has poor performance.  Consider joining all columns at once using pd.concat(axis=1) instead. To get a de-fragmented frame, use `newframe = frame.copy()`\n",
      "  emptydf[aq+ \"_\" + str(i) +\":\"+ str(j)] = 1\n",
      "C:\\Users\\Nobody\\AppData\\Local\\Temp/ipykernel_12496/1648068968.py:5: PerformanceWarning: DataFrame is highly fragmented.  This is usually the result of calling `frame.insert` many times, which has poor performance.  Consider joining all columns at once using pd.concat(axis=1) instead. To get a de-fragmented frame, use `newframe = frame.copy()`\n",
      "  emptydf[aq+ \"_\" + str(i) +\":\"+ str(j)] = 1\n",
      "C:\\Users\\Nobody\\AppData\\Local\\Temp/ipykernel_12496/1648068968.py:5: PerformanceWarning: DataFrame is highly fragmented.  This is usually the result of calling `frame.insert` many times, which has poor performance.  Consider joining all columns at once using pd.concat(axis=1) instead. To get a de-fragmented frame, use `newframe = frame.copy()`\n",
      "  emptydf[aq+ \"_\" + str(i) +\":\"+ str(j)] = 1\n",
      "C:\\Users\\Nobody\\AppData\\Local\\Temp/ipykernel_12496/1648068968.py:5: PerformanceWarning: DataFrame is highly fragmented.  This is usually the result of calling `frame.insert` many times, which has poor performance.  Consider joining all columns at once using pd.concat(axis=1) instead. To get a de-fragmented frame, use `newframe = frame.copy()`\n",
      "  emptydf[aq+ \"_\" + str(i) +\":\"+ str(j)] = 1\n"
     ]
    }
   ],
   "source": [
    "aqlist = [\"NO2\",\"NOx\",\"O3\",]\n",
    "for aq in aqlist:\n",
    "    for i in range(0,24):\n",
    "        for j in range(0,60,30):\n",
    "            emptydf[aq+ \"_\" + str(i) +\":\"+ str(j)] = 1"
   ]
  },
  {
   "cell_type": "code",
   "execution_count": 104,
   "metadata": {},
   "outputs": [],
   "source": [
    "yearmonthhourdf = newdf.copy()\n",
    "yearmonthhourdf = yearmonthhourdf.reset_index()"
   ]
  },
  {
   "cell_type": "code",
   "execution_count": 105,
   "metadata": {},
   "outputs": [],
   "source": [
    "indexdict = {0:201912,1:202001,2:202002,3:202003,4:202004,5:202005,6:202006,7:202007,8:202008,9:202009,10:202010,11:202011,12:202012,13:202101,14:202102,15:202103,16:202104,17:202105,18:202106,\n",
    "                              19:202107,20:202108,21:202109,22:202110,23:202111,24:202112,25:202201,26:202202,27:202203,28:202204,29:202205,30:202206,31:202207,32:202208,33:202209,\n",
    "                              34:202210,35:202211,36:202212}\n",
    "\n",
    "for aq in aqlist:\n",
    "    for j in range(0,28):\n",
    "        l = -1\n",
    "        for i in range (0,24):\n",
    "            for k in range(0,2):\n",
    "                l += 1\n",
    "                if aq == \"O3\":\n",
    "                    emptydf.loc[indexdict[j],aq+ \"_\" + str(i) + \":\" + str(k*30)] = yearmonthhourdf.loc[l+48*j,\"O3\"]\n",
    "                elif aq == \"NO2\":\n",
    "                    emptydf.loc[indexdict[j],aq+ \"_\" + str(i)+ \":\" + str(k*30)] = yearmonthhourdf.loc[l+48*j,\"NO2\"]\n",
    "                elif aq == \"NOx\":\n",
    "                    emptydf.loc[indexdict[j],aq+ \"_\" + str(i)+ \":\" + str(k*30)] = yearmonthhourdf.loc[l+48*j,\"NOx\"]\n",
    "                \n"
   ]
  },
  {
   "cell_type": "code",
   "execution_count": 106,
   "metadata": {},
   "outputs": [],
   "source": [
    "dftoconvert = df.copy()"
   ]
  },
  {
   "cell_type": "code",
   "execution_count": 107,
   "metadata": {},
   "outputs": [],
   "source": [
    "dftoconvert.sort_values(by=\"Recorded\",inplace=True)\n",
    "dftoconvert.index = dftoconvert[\"Recorded\"]"
   ]
  },
  {
   "cell_type": "code",
   "execution_count": 108,
   "metadata": {},
   "outputs": [],
   "source": [
    "dftoconvert['time_year'] = dftoconvert.index.map(lambda x: x.year)\n",
    "dftoconvert['time_month'] = dftoconvert.index.map(lambda x: x.month)\n",
    "dftoconvert['time_day'] = dftoconvert.index.map(lambda x: x.day)\n",
    "dftoconvert['time_hour'] = dftoconvert.index.map(lambda x: x.hour)\n",
    "dftoconvert['time_minute'] = dftoconvert.index.map(lambda x: x.minute)"
   ]
  },
  {
   "cell_type": "code",
   "execution_count": 109,
   "metadata": {},
   "outputs": [],
   "source": [
    "#aqdict = {1:\"CO_\",2:\"NO2_\",3:\"SO2_\",4:\"NOx_\"}\n",
    "aqdict = {1:\"NO2_\",2:\"NOx_\",3:\"O3_\"}\n",
    "#print(\"aq ,     time,    now,    mean,  counter\")\n",
    "counter = 0\n",
    "x = 0.999999\n",
    "for i in range(0,dftoconvert.shape[0]):\n",
    "    for j in range(1,4):\n",
    "        for k in range(7,0,-1):\n",
    "            flooringnumber = math.floor((x*10**k))/10**k\n",
    "            if dftoconvert.iloc[i,j] > emptydf[aqdict[j]+str(dftoconvert.iloc[i,-2])+\":\"+str(dftoconvert.iloc[i,-1])].quantile(flooringnumber):\n",
    "                counter +=1\n",
    "                #print(aqdict[j],\",\",dftoconvert.iloc[i,0],\",\",dftoconvert.iloc[i,j],\",\",emptydf[aqdict[j]+str(dftoconvert.iloc[i,-2])+\":\"+str(dftoconvert.iloc[i,-1])].quantile(flooringnumber).round(2),\",\",str(counter))\n",
    "                dftoconvert.iloc[i,j] = emptydf[aqdict[j]+str(dftoconvert.iloc[i,-2])+\":\"+str(dftoconvert.iloc[i,-1])].quantile(flooringnumber)\n",
    "                break"
   ]
  },
  {
   "cell_type": "code",
   "execution_count": 111,
   "metadata": {},
   "outputs": [],
   "source": [
    "dftoconvert = dftoconvert.round(2)\n",
    "dftoconvert= dftoconvert[[\"Recorded\",\"NO2\",\"NOx\",\"O3\"]]\n",
    "dftoconvert.to_csv(\"Dataset/AAL_T_19-22mar_Skew.csv\",index=False)"
   ]
  },
  {
   "cell_type": "code",
   "execution_count": null,
   "metadata": {},
   "outputs": [],
   "source": [
    "dftoconvert= dftoconvert[[[[\"Recorded\",\"NO2\",\"NOx\",\"O3\"]]]]\n",
    "desendingdf = dftoconvert.copy()\n",
    "desendingdf = desendingdf.reset_index(drop=True)\n",
    "desendingdf = desendingdf.sort_values(by=\"Recorded\",ascending=False)\n",
    "desendingdf.to_csv(\"Aalborg_Tag_SkewFix_desending.csv\",index=False)"
   ]
  }
 ],
 "metadata": {
  "interpreter": {
   "hash": "6ceb70875582159136b9c7d207ebd2016435d2a136370e35b97c5e7cd11b8213"
  },
  "kernelspec": {
   "display_name": "Python 3.9.6 64-bit",
   "language": "python",
   "name": "python3"
  },
  "language_info": {
   "codemirror_mode": {
    "name": "ipython",
    "version": 3
   },
   "file_extension": ".py",
   "mimetype": "text/x-python",
   "name": "python",
   "nbconvert_exporter": "python",
   "pygments_lexer": "ipython3",
   "version": "3.9.6"
  },
  "orig_nbformat": 4
 },
 "nbformat": 4,
 "nbformat_minor": 2
}
