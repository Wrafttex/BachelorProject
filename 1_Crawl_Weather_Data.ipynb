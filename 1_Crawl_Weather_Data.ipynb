{
 "cells": [
  {
   "cell_type": "code",
   "execution_count": 1,
   "metadata": {},
   "outputs": [],
   "source": [
    "import requests\n",
    "import pandas as pd\n",
    "from datetime import datetime, timedelta"
   ]
  },
  {
   "cell_type": "code",
   "execution_count": 10,
   "metadata": {},
   "outputs": [],
   "source": [
    "startDay = '20191206'\n",
    "\n",
    "datetimeStartDay = datetime.strptime(startDay, '%Y%m%d')\n",
    "\n",
    "small_df = []\n",
    "for i in range(0,823):\n",
    "    nextDay = datetimeStartDay + timedelta(days=i)\n",
    "    onlyDay = nextDay.strftime('%Y%m%d')\n",
    "    response = requests.get('https://api.weather.com/v1/location/EKYT:9:DK/observations/historical.json?apiKey=e1f10a1e78da46f5b10a1e78da96f525&units=m&startDate='+onlyDay)\n",
    "    jsonData = response.json()\n",
    "    df = pd.json_normalize(jsonData['observations'])\n",
    "    df = df[['valid_time_gmt', 'heat_index', 'rh', 'pressure', 'wdir', 'wdir_cardinal', 'wspd']]\n",
    "    small_df.append(df)\n",
    "    response.close()\n",
    "\n",
    "concatdf = pd.concat(small_df, ignore_index=True)\n",
    "#concatdf.to_csv('Dataset/WeatherData19des-22mar.csv', index=False, sep=',')"
   ]
  },
  {
   "cell_type": "code",
   "execution_count": 34,
   "metadata": {},
   "outputs": [],
   "source": [
    "\n",
    "#concatdf = pd.read_csv('Dataset/WeatherData19des-22mar.csv')\n",
    "\n",
    "\n",
    "for i in range(0, concatdf.shape[0]):\n",
    "    timeChange = concatdf.loc[i,'valid_time_gmt']\n",
    "    convertTime = datetime.utcfromtimestamp(timeChange)\n",
    "    convertTime = convertTime + timedelta(hours=2)\n",
    "    concatdf.loc[i, 'valid_time_gmt'] = convertTime\n",
    "#concatdf.to_csv('Dataset/NOTRemoveBadTimes.csv', index=False)"
   ]
  },
  {
   "cell_type": "code",
   "execution_count": 49,
   "metadata": {},
   "outputs": [
    {
     "name": "stdout",
     "output_type": "stream",
     "text": [
      "Index(['valid_time_gmt', 'heat_index', 'rh', 'pressure', 'wdir',\n",
      "       'wdir_cardinal', 'wspd'],\n",
      "      dtype='object')\n",
      "(118657, 7)\n"
     ]
    }
   ],
   "source": [
    "#concatdf = pd.read_csv('Dataset/NOTRemoveBadTimes.csv')\n",
    "concatdf['valid_time_gmt'] = pd.to_datetime(concatdf['valid_time_gmt'])\n",
    "\n",
    "ts = pd.date_range(\"2019-12-06 00:00:00\", \"2022-03-09 00:00:00\", freq='10min')\n",
    "print(concatdf.columns)\n",
    "concatdf =concatdf.set_index('valid_time_gmt').reindex(ts).fillna(method=\"ffill\").rename_axis('valid_time_gmt').reset_index()\n",
    "\n",
    "#df[(df.groupby([\"valid_time_gmt\"], as_index=False)[\"valid_time_gmt\"].diff().fillna(pd.Timedelta(seconds=0)).dt.seconds <= 1000).reset_index(drop=True)]\n",
    "print(concatdf.shape)\n",
    "#concatdf.to_csv(\"teswtaaaaing.csv\",index=False)\n",
    "\n"
   ]
  },
  {
   "cell_type": "code",
   "execution_count": 51,
   "metadata": {},
   "outputs": [
    {
     "name": "stdout",
     "output_type": "stream",
     "text": [
      "DatetimeIndex(['2019-12-06 00:00:00', '2019-12-06 00:30:00',\n",
      "               '2019-12-06 01:00:00', '2019-12-06 01:30:00',\n",
      "               '2019-12-06 02:00:00', '2019-12-06 02:30:00',\n",
      "               '2019-12-06 03:00:00', '2019-12-06 03:30:00',\n",
      "               '2019-12-06 04:00:00', '2019-12-06 04:30:00',\n",
      "               ...\n",
      "               '2022-03-08 19:30:00', '2022-03-08 20:00:00',\n",
      "               '2022-03-08 20:30:00', '2022-03-08 21:00:00',\n",
      "               '2022-03-08 21:30:00', '2022-03-08 22:00:00',\n",
      "               '2022-03-08 22:30:00', '2022-03-08 23:00:00',\n",
      "               '2022-03-08 23:30:00', '2022-03-09 00:00:00'],\n",
      "              dtype='datetime64[ns]', length=39553, freq='30T')\n"
     ]
    }
   ],
   "source": [
    "#concatdf = pd.read_csv(\"teswtaaaaing.csv\")\n",
    "\n",
    "ts = pd.date_range(\"2019-12-06 00:00:00\", \"2022-03-09 00:00:00\", freq='30min')\n",
    "concatdf['valid_time_gmt'] = pd.to_datetime(concatdf['valid_time_gmt'])\n",
    "concatdf.index = concatdf[\"valid_time_gmt\"]\n",
    "df2 = pd.DataFrame(index=ts)\n",
    "print(df2.index)\n",
    "df3 =df2.join(concatdf)\n",
    "#df3 = pd.concat([df,df2],axis=1)\n",
    "df3.to_csv(\"Dataset/Weather_Data.csv\",index=False)"
   ]
  }
 ],
 "metadata": {
  "interpreter": {
   "hash": "6ceb70875582159136b9c7d207ebd2016435d2a136370e35b97c5e7cd11b8213"
  },
  "kernelspec": {
   "display_name": "Python 3.9.6 64-bit",
   "language": "python",
   "name": "python3"
  },
  "language_info": {
   "codemirror_mode": {
    "name": "ipython",
    "version": 3
   },
   "file_extension": ".py",
   "mimetype": "text/x-python",
   "name": "python",
   "nbconvert_exporter": "python",
   "pygments_lexer": "ipython3",
   "version": "3.9.6"
  },
  "orig_nbformat": 4
 },
 "nbformat": 4,
 "nbformat_minor": 2
}
