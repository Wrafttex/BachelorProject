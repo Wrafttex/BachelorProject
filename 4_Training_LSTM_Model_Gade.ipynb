{
 "cells": [
  {
   "cell_type": "code",
   "execution_count": 254,
   "metadata": {},
   "outputs": [],
   "source": [
    "import numpy as np\n",
    "from sklearn.metrics import mean_absolute_error\n",
    "from keras.models import Sequential\n",
    "from keras.layers import LSTM, Dense\n",
    "import pandas as pd\n",
    "from sklearn.preprocessing import StandardScaler\n",
    "from keras.preprocessing.sequence import TimeseriesGenerator\n",
    "import tensorflow as tf\n",
    "import matplotlib.pyplot as plt"
   ]
  },
  {
   "cell_type": "code",
   "execution_count": 255,
   "metadata": {},
   "outputs": [],
   "source": [
    "def get_score(valid_y_exp, pred):\n",
    "    return mean_absolute_error(pred, valid_y_exp)"
   ]
  },
  {
   "cell_type": "code",
   "execution_count": 260,
   "metadata": {},
   "outputs": [],
   "source": [
    "path = \"Dataset/AAl_G_Weather_SkewFix_19des-22mar.csv\"\n",
    "\n",
    "df_data = pd.read_csv(path)"
   ]
  },
  {
   "cell_type": "code",
   "execution_count": 261,
   "metadata": {},
   "outputs": [],
   "source": [
    "df_data['year'] = pd.to_datetime(df_data['Recorded']).dt.year\n",
    "df_data['Weekday'] = pd.to_datetime(df_data['Recorded']).dt.weekday\n",
    "df_data['Hour'] = pd.to_datetime(df_data['Recorded']).dt.hour\n",
    "df_data['Month'] = pd.to_datetime(df_data['Recorded']).dt.month\n",
    "df_data['Day'] = pd.to_datetime(df_data['Recorded']).dt.day"
   ]
  },
  {
   "cell_type": "code",
   "execution_count": 258,
   "metadata": {},
   "outputs": [],
   "source": [
    "# df_data = df_data.drop(columns=[\"wdir_cardinal\",\"Recorded\",\"SO2\",\"CO\",'heat_index', 'rh', 'pressure', 'wdir', 'wspd', 'Weekday',\n",
    "#        'Hour', 'Month', 'Day', \"Year\"])"
   ]
  },
  {
   "cell_type": "code",
   "execution_count": 241,
   "metadata": {},
   "outputs": [],
   "source": [
    "df_data = df_data.drop(columns=[\"wdir_cardinal\",\"Recorded\",\"SO2\",\"CO\",\"Month\", \"Day\", \"pressure\"])"
   ]
  },
  {
   "cell_type": "code",
   "execution_count": 263,
   "metadata": {},
   "outputs": [
    {
     "data": {
      "text/plain": [
       "Index(['NO2', 'NOx', 'SO2', 'heat_index', 'rh', 'pressure', 'wdir', 'wspd',\n",
       "       'year', 'Weekday', 'Hour', 'Month', 'Day'],\n",
       "      dtype='object')"
      ]
     },
     "execution_count": 263,
     "metadata": {},
     "output_type": "execute_result"
    }
   ],
   "source": [
    "df_data.columns"
   ]
  },
  {
   "cell_type": "code",
   "execution_count": 264,
   "metadata": {},
   "outputs": [],
   "source": [
    "train_Df = df_data[0:35520]\n",
    "train_Data = train_Df[0:28416]\n",
    "val_df = train_Df[28416:]"
   ]
  },
  {
   "cell_type": "code",
   "execution_count": 265,
   "metadata": {},
   "outputs": [],
   "source": [
    "X_train = train_Data[0:-1].copy()\n",
    "Y_train = train_Data[[\"NO2\",\"NOx\"]].copy()\n",
    "Y_train = Y_train[1:]"
   ]
  },
  {
   "cell_type": "code",
   "execution_count": 266,
   "metadata": {},
   "outputs": [],
   "source": [
    "X_val = val_df[0:-1].copy()\n",
    "Y_val = val_df[[\"NO2\",\"NOx\"]].copy()\n",
    "Y_val = Y_val[1:]"
   ]
  },
  {
   "cell_type": "code",
   "execution_count": 267,
   "metadata": {},
   "outputs": [],
   "source": [
    "Xscaler = StandardScaler()\n",
    "Xscaler.fit(X_train)\n",
    "scaled_X_train = Xscaler.transform(X_train)\n",
    "Yscaler = StandardScaler()\n",
    "Yscaler.fit(Y_train)\n",
    "scaled_y_train = Yscaler.transform(Y_train)"
   ]
  },
  {
   "cell_type": "code",
   "execution_count": 268,
   "metadata": {},
   "outputs": [],
   "source": [
    "X_val_scaler = StandardScaler() # scale so that all the X data will range from 0 to 1\n",
    "X_val_scaler.fit(X_val)\n",
    "scaled_X_val = X_val_scaler.transform(X_val)\n",
    "Y_val_scaler = StandardScaler()\n",
    "Y_val_scaler.fit(Y_val)\n",
    "scaled_y_val = Y_val_scaler.transform(Y_val)"
   ]
  },
  {
   "cell_type": "code",
   "execution_count": 271,
   "metadata": {},
   "outputs": [],
   "source": [
    "n_input = 48 #how many samples/rows/timesteps to look in the past in order to forecast the next sample\n",
    "n_features= X_train.shape[1] # how many predictors/Xs/features we have to predict y\n",
    "b_size = 256 # Number of timeseries samples in each batch\n",
    "generator = TimeseriesGenerator(scaled_X_train, scaled_y_train, length=n_input, batch_size=b_size)\n",
    "valgenerator = TimeseriesGenerator(scaled_X_val,scaled_y_val,length=n_input, batch_size=b_size)"
   ]
  },
  {
   "cell_type": "code",
   "execution_count": 270,
   "metadata": {},
   "outputs": [],
   "source": [
    "early_stopping = tf.keras.callbacks.EarlyStopping(monitor='val_loss',\n",
    "                                                    patience=3,\n",
    "                                                    mode='min')\n",
    "\n",
    "model = Sequential()\n",
    "#model.add(Embedding(input_dim=48,output_dim=48))\n",
    "model.add(LSTM(12,activation='tanh', input_shape=(n_input, n_features)))\n",
    "# model.add(Dropout(0.1))\n",
    "# model.add(Dense(30, activation='tanh'))\n",
    "# model.add(Dropout(0.3))\n",
    "model.add(Dense(2))\n",
    "#model.add(tf.keras.layers.Reshape([48, 3]))\n",
    "model.compile(loss='mae',optimizer='adam')\n",
    "\n",
    "\n",
    "#model.fit(generator,epochs=5)\n",
    "history = model.fit(generator, epochs=35, shuffle=True,\n",
    "                        validation_data=(valgenerator),\n",
    "                        callbacks=[early_stopping],\n",
    "                        verbose=2)\n",
    "\n",
    "model.summary()\n",
    "\n",
    "#plot model accuracy\n",
    "plt.plot(history.history['loss'], label='train')\n",
    "plt.plot(history.history['val_loss'], label='validation')\n",
    "plt.legend()\n",
    "plt.show()\n",
    "\n",
    "#plot feature importance\n",
    "columnsTitles=train_Data.columns.to_list()\n",
    "results = []\n",
    "print(' Computing LSTM Feature importance...')\n",
    "feature_preds_scale = model.predict(valgenerator, verbose = 0).squeeze()\n",
    "feature_preds = Y_val_scaler.inverse_transform(feature_preds_scale)\n",
    "baseline_mae = np.mean(np.abs(feature_preds - Y_val[48:].values))\n",
    "results.append({'feature': 'BASELINE', 'mae': baseline_mae})\n",
    "\n",
    "for i in range(len(columnsTitles)):\n",
    "    save_col = scaled_X_val[:,i].copy()\n",
    "    np.random.shuffle(scaled_X_val[:,i])\n",
    "    feature_preds_scale = model.predict(valgenerator, verbose = 0).squeeze()\n",
    "    feature_preds = Y_val_scaler.inverse_transform(feature_preds_scale)\n",
    "    mae = np.mean(np.abs(feature_preds - Y_val[48:].values))\n",
    "    results.append({'feature': columnsTitles[i], 'mae': mae})\n",
    "    \n",
    "    scaled_X_val[:,i] = save_col\n",
    "\n",
    "print()\n",
    "width = [0.2]\n",
    "df = pd.DataFrame(results)\n",
    "df = df.sort_values('mae')\n",
    "plt.figure(figsize=(5,5))\n",
    "plt.barh(np.arange(len(columnsTitles)+1),df.mae, width)\n",
    "plt.yticks(np.arange(len(columnsTitles)+1),df.feature.values)\n",
    "plt.title('LSTM Feature Importance',size=16)\n",
    "plt.ylim((-1,len(columnsTitles)+1))\n",
    "plt.plot([baseline_mae,baseline_mae],[-1,len(columnsTitles)+1], '--', color='orange',\n",
    "                    label=f'Baseline \\nMAE={baseline_mae:.3f}')\n",
    "plt.xlabel('MAE with feature permuted',size=14)\n",
    "plt.ylabel('Feature',size=14)\n",
    "plt.legend()\n",
    "plt.show()"
   ]
  },
  {
   "cell_type": "code",
   "execution_count": 219,
   "metadata": {},
   "outputs": [
    {
     "name": "stdout",
     "output_type": "stream",
     "text": [
      "val_loss Scaled: 0.3017333934760962\n",
      "val_loss normal: 6.570150595732451\n"
     ]
    }
   ],
   "source": [
    "\n",
    "prediction_scale = model.predict(valgenerator)\n",
    "prediction = Y_val_scaler.inverse_transform(prediction_scale)\n",
    "score = get_score(prediction,Y_val[48:].values)\n",
    "score_scale = get_score(prediction_scale,scaled_y_val[48:])\n",
    "print(\"val_loss Scaled:\",score_scale)\n",
    "print(\"val_loss normal:\",score)\n"
   ]
  },
  {
   "cell_type": "code",
   "execution_count": 273,
   "metadata": {},
   "outputs": [],
   "source": [
    "real_df = df_data[35520: -6]\n",
    "X_test = real_df.copy()\n",
    "scaled_X_test = Xscaler.transform(X_test)\n",
    "nplen = (X_test.shape[0],3)\n",
    "npzeros = np.zeros(nplen)"
   ]
  },
  {
   "cell_type": "code",
   "execution_count": 274,
   "metadata": {},
   "outputs": [],
   "source": [
    "test_generator = TimeseriesGenerator(scaled_X_test, npzeros, length=n_input, batch_size=b_size)"
   ]
  },
  {
   "cell_type": "code",
   "execution_count": 275,
   "metadata": {},
   "outputs": [],
   "source": [
    "y_pred_scaled = model.predict(test_generator)\n",
    "y_pred = Yscaler.inverse_transform(y_pred_scaled)"
   ]
  },
  {
   "cell_type": "code",
   "execution_count": 283,
   "metadata": {},
   "outputs": [],
   "source": [
    "NO2_pred = [i[0] for i in y_pred]\n",
    "NOx_pred = [i[1] for i in y_pred]"
   ]
  },
  {
   "cell_type": "code",
   "execution_count": null,
   "metadata": {},
   "outputs": [],
   "source": [
    "predictionsDf = pd.DataFrame({\"Pred_NO2\":NO2_pred,\"Pred_NOx\":NOx_pred})\n",
    "predictionsDf = predictionsDf.round(2)\n",
    "predictionsDf.to_csv(\"LSTM/AAl_G_Prediction.csv\",index=False)"
   ]
  },
  {
   "cell_type": "code",
   "execution_count": 281,
   "metadata": {},
   "outputs": [],
   "source": [
    "NO2_real =real_df[\"NO2\"].values\n",
    "NOx_real =real_df[\"NOx\"].values"
   ]
  },
  {
   "cell_type": "code",
   "execution_count": null,
   "metadata": {},
   "outputs": [],
   "source": [
    "realDF = pd.DataFrame({\"Real_NO2\":NO2_real,\"Real_NOx\":NOx_real})\n",
    "realDF.to_csv(\"LSTM/AAl_G_Real.csv\",index=False)"
   ]
  },
  {
   "cell_type": "code",
   "execution_count": 280,
   "metadata": {},
   "outputs": [
    {
     "data": {
      "text/plain": [
       "3.2478426856012557"
      ]
     },
     "execution_count": 280,
     "metadata": {},
     "output_type": "execute_result"
    }
   ],
   "source": [
    "scoreNO2 = get_score(NO2_real[48:],NO2_pred)\n",
    "scoreNOx = get_score(NOx_real[48:],NOx_pred)\n",
    "average = (scoreNO2 + scoreNOx) / 2\n",
    "print('NOx score:', scoreNOx, '\\n' 'NO2 score:', scoreNO2, '\\n' 'Average MAE:', average)"
   ]
  },
  {
   "cell_type": "code",
   "execution_count": 284,
   "metadata": {},
   "outputs": [
    {
     "data": {
      "image/png": "[encoded data removed]",
      "text/plain": [
       "<Figure size 700x420 with 1 Axes>"
      ]
     },
     "metadata": {},
     "output_type": "display_data"
    }
   ],
   "source": [
    "\n",
    "plt.figure(num=None, dpi=70, figsize=(10, 6),facecolor='w', edgecolor='k')\n",
    "plt.plot(NO2_pred[0:500], \"-b\", label=\"Predicted values\")\n",
    "plt.plot(NO2_real[48:548], \"-r\", label=\"Real values\")\n",
    "plt.legend(loc=\"upper left\")\n",
    "plt.title('NO2 comparisons', x=0.5, y=0.8, loc='right')\n",
    "plt.show()"
   ]
  },
  {
   "cell_type": "code",
   "execution_count": null,
   "metadata": {},
   "outputs": [],
   "source": [
    "plt.figure(num=None, dpi=70, figsize=(10, 6),facecolor='w', edgecolor='k')\n",
    "plt.plot(NOx_pred[0:500], \"-b\", label=\"Predicted values\")\n",
    "plt.plot(NOx_real[48:548], \"-r\", label=\"Real values\")\n",
    "plt.legend(loc=\"upper left\")\n",
    "plt.title('NOx comparisons', x=0.5, y=0.8, loc='right')\n",
    "plt.show()"
   ]
  }
 ],
 "metadata": {
  "interpreter": {
   "hash": "6ceb70875582159136b9c7d207ebd2016435d2a136370e35b97c5e7cd11b8213"
  },
  "kernelspec": {
   "display_name": "Python 3.9.6 64-bit",
   "language": "python",
   "name": "python3"
  },
  "language_info": {
   "codemirror_mode": {
    "name": "ipython",
    "version": 3
   },
   "file_extension": ".py",
   "mimetype": "text/x-python",
   "name": "python",
   "nbconvert_exporter": "python",
   "pygments_lexer": "ipython3",
   "version": "3.9.6"
  },
  "orig_nbformat": 4
 },
 "nbformat": 4,
 "nbformat_minor": 2
}
