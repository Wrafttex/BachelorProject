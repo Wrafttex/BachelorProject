{
 "cells": [
  {
   "cell_type": "code",
   "execution_count": 1,
   "metadata": {},
   "outputs": [],
   "source": [
    "import numpy as np\n",
    "from sklearn.metrics import mean_absolute_error\n",
    "from keras.models import Sequential\n",
    "from keras.layers import LSTM, Dense\n",
    "import pandas as pd\n",
    "from sklearn.preprocessing import StandardScaler\n",
    "from keras.preprocessing.sequence import TimeseriesGenerator\n",
    "import tensorflow as tf\n",
    "import matplotlib.pyplot as plt"
   ]
  },
  {
   "cell_type": "code",
   "execution_count": 2,
   "metadata": {},
   "outputs": [],
   "source": [
    "def get_score(valid_y_exp, pred):\n",
    "    return mean_absolute_error(pred, valid_y_exp)"
   ]
  },
  {
   "cell_type": "code",
   "execution_count": 3,
   "metadata": {},
   "outputs": [],
   "source": [
    "path = \"Dataset/AAl_G_Weather_SkewFix_19des-22mar.csv\"\n",
    "\n",
    "df_data = pd.read_csv(path)"
   ]
  },
  {
   "cell_type": "code",
   "execution_count": 4,
   "metadata": {},
   "outputs": [],
   "source": [
    "df_data['Year'] = pd.to_datetime(df_data['Recorded']).dt.year\n",
    "df_data['Weekday'] = pd.to_datetime(df_data['Recorded']).dt.weekday\n",
    "df_data['Hour'] = pd.to_datetime(df_data['Recorded']).dt.hour\n",
    "df_data['Month'] = pd.to_datetime(df_data['Recorded']).dt.month\n",
    "df_data['Day'] = pd.to_datetime(df_data['Recorded']).dt.day"
   ]
  },
  {
   "cell_type": "code",
   "execution_count": 18,
   "metadata": {},
   "outputs": [],
   "source": [
    "#df_data = df_data.drop(columns=[\"wdir_cardinal\",\"Recorded\",\"SO2\",\"CO\",'heat_index', 'rh', 'pressure', 'wdir', 'wspd', 'Weekday',\n",
    "#        'Hour', 'Month', 'Day', \"Year\"])"
   ]
  },
  {
   "cell_type": "code",
   "execution_count": 5,
   "metadata": {},
   "outputs": [],
   "source": [
    "df_data = df_data.drop(columns=[\"wdir_cardinal\",\"Recorded\",\"SO2\",\"CO\",\"Month\", \"Day\", \"pressure\"])"
   ]
  },
  {
   "cell_type": "code",
   "execution_count": 20,
   "metadata": {},
   "outputs": [
    {
     "data": {
      "text/plain": [
       "Index(['NO2', 'NOx', 'heat_index', 'rh', 'wdir', 'wspd', 'Year', 'Weekday',\n",
       "       'Hour'],\n",
       "      dtype='object')"
      ]
     },
     "execution_count": 20,
     "metadata": {},
     "output_type": "execute_result"
    }
   ],
   "source": [
    "df_data.columns"
   ]
  },
  {
   "cell_type": "code",
   "execution_count": 25,
   "metadata": {},
   "outputs": [
    {
     "data": {
      "text/html": [
       "<div>\n",
       "<style scoped>\n",
       "    .dataframe tbody tr th:only-of-type {\n",
       "        vertical-align: middle;\n",
       "    }\n",
       "\n",
       "    .dataframe tbody tr th {\n",
       "        vertical-align: top;\n",
       "    }\n",
       "\n",
       "    .dataframe thead th {\n",
       "        text-align: right;\n",
       "    }\n",
       "</style>\n",
       "<table border=\"1\" class=\"dataframe\">\n",
       "  <thead>\n",
       "    <tr style=\"text-align: right;\">\n",
       "      <th></th>\n",
       "      <th>NOx</th>\n",
       "      <th>NO2</th>\n",
       "      <th>NOx_max</th>\n",
       "      <th>NOx_mean</th>\n",
       "      <th>NOx_min</th>\n",
       "      <th>NO2_max</th>\n",
       "      <th>NO2_mean</th>\n",
       "    </tr>\n",
       "  </thead>\n",
       "  <tbody>\n",
       "    <tr>\n",
       "      <th>0</th>\n",
       "      <td>18.23</td>\n",
       "      <td>11.84</td>\n",
       "      <td>18.23</td>\n",
       "      <td>18.230000</td>\n",
       "      <td>18.23</td>\n",
       "      <td>11.84</td>\n",
       "      <td>11.840000</td>\n",
       "    </tr>\n",
       "    <tr>\n",
       "      <th>1</th>\n",
       "      <td>26.09</td>\n",
       "      <td>17.29</td>\n",
       "      <td>26.09</td>\n",
       "      <td>22.160000</td>\n",
       "      <td>18.23</td>\n",
       "      <td>17.29</td>\n",
       "      <td>14.565000</td>\n",
       "    </tr>\n",
       "    <tr>\n",
       "      <th>2</th>\n",
       "      <td>31.80</td>\n",
       "      <td>21.40</td>\n",
       "      <td>31.80</td>\n",
       "      <td>25.373333</td>\n",
       "      <td>18.23</td>\n",
       "      <td>21.40</td>\n",
       "      <td>16.843333</td>\n",
       "    </tr>\n",
       "    <tr>\n",
       "      <th>3</th>\n",
       "      <td>28.80</td>\n",
       "      <td>16.03</td>\n",
       "      <td>31.80</td>\n",
       "      <td>26.230000</td>\n",
       "      <td>18.23</td>\n",
       "      <td>21.40</td>\n",
       "      <td>16.640000</td>\n",
       "    </tr>\n",
       "    <tr>\n",
       "      <th>4</th>\n",
       "      <td>38.67</td>\n",
       "      <td>25.11</td>\n",
       "      <td>38.67</td>\n",
       "      <td>28.718000</td>\n",
       "      <td>18.23</td>\n",
       "      <td>25.11</td>\n",
       "      <td>18.334000</td>\n",
       "    </tr>\n",
       "    <tr>\n",
       "      <th>5</th>\n",
       "      <td>47.60</td>\n",
       "      <td>23.14</td>\n",
       "      <td>47.60</td>\n",
       "      <td>31.865000</td>\n",
       "      <td>18.23</td>\n",
       "      <td>25.11</td>\n",
       "      <td>19.135000</td>\n",
       "    </tr>\n",
       "    <tr>\n",
       "      <th>6</th>\n",
       "      <td>44.62</td>\n",
       "      <td>25.84</td>\n",
       "      <td>47.60</td>\n",
       "      <td>33.687143</td>\n",
       "      <td>18.23</td>\n",
       "      <td>25.84</td>\n",
       "      <td>20.092857</td>\n",
       "    </tr>\n",
       "    <tr>\n",
       "      <th>7</th>\n",
       "      <td>47.66</td>\n",
       "      <td>27.64</td>\n",
       "      <td>47.66</td>\n",
       "      <td>35.433750</td>\n",
       "      <td>18.23</td>\n",
       "      <td>27.64</td>\n",
       "      <td>21.036250</td>\n",
       "    </tr>\n",
       "    <tr>\n",
       "      <th>8</th>\n",
       "      <td>42.50</td>\n",
       "      <td>25.97</td>\n",
       "      <td>47.66</td>\n",
       "      <td>36.218889</td>\n",
       "      <td>18.23</td>\n",
       "      <td>27.64</td>\n",
       "      <td>21.584444</td>\n",
       "    </tr>\n",
       "    <tr>\n",
       "      <th>9</th>\n",
       "      <td>53.51</td>\n",
       "      <td>31.42</td>\n",
       "      <td>53.51</td>\n",
       "      <td>37.948000</td>\n",
       "      <td>18.23</td>\n",
       "      <td>31.42</td>\n",
       "      <td>22.568000</td>\n",
       "    </tr>\n",
       "    <tr>\n",
       "      <th>10</th>\n",
       "      <td>43.85</td>\n",
       "      <td>28.73</td>\n",
       "      <td>53.51</td>\n",
       "      <td>38.484545</td>\n",
       "      <td>18.23</td>\n",
       "      <td>31.42</td>\n",
       "      <td>23.128182</td>\n",
       "    </tr>\n",
       "    <tr>\n",
       "      <th>11</th>\n",
       "      <td>44.75</td>\n",
       "      <td>27.64</td>\n",
       "      <td>53.51</td>\n",
       "      <td>39.006667</td>\n",
       "      <td>18.23</td>\n",
       "      <td>31.42</td>\n",
       "      <td>23.504167</td>\n",
       "    </tr>\n",
       "    <tr>\n",
       "      <th>12</th>\n",
       "      <td>58.01</td>\n",
       "      <td>26.68</td>\n",
       "      <td>58.01</td>\n",
       "      <td>40.468462</td>\n",
       "      <td>18.23</td>\n",
       "      <td>31.42</td>\n",
       "      <td>23.748462</td>\n",
       "    </tr>\n",
       "    <tr>\n",
       "      <th>13</th>\n",
       "      <td>44.47</td>\n",
       "      <td>28.96</td>\n",
       "      <td>58.01</td>\n",
       "      <td>40.754286</td>\n",
       "      <td>18.23</td>\n",
       "      <td>31.42</td>\n",
       "      <td>24.120714</td>\n",
       "    </tr>\n",
       "    <tr>\n",
       "      <th>14</th>\n",
       "      <td>49.82</td>\n",
       "      <td>30.91</td>\n",
       "      <td>58.01</td>\n",
       "      <td>41.358667</td>\n",
       "      <td>18.23</td>\n",
       "      <td>31.42</td>\n",
       "      <td>24.573333</td>\n",
       "    </tr>\n",
       "    <tr>\n",
       "      <th>15</th>\n",
       "      <td>40.55</td>\n",
       "      <td>25.17</td>\n",
       "      <td>58.01</td>\n",
       "      <td>41.308125</td>\n",
       "      <td>18.23</td>\n",
       "      <td>31.42</td>\n",
       "      <td>24.610625</td>\n",
       "    </tr>\n",
       "    <tr>\n",
       "      <th>16</th>\n",
       "      <td>49.09</td>\n",
       "      <td>29.17</td>\n",
       "      <td>58.01</td>\n",
       "      <td>41.765882</td>\n",
       "      <td>18.23</td>\n",
       "      <td>31.42</td>\n",
       "      <td>24.878824</td>\n",
       "    </tr>\n",
       "    <tr>\n",
       "      <th>17</th>\n",
       "      <td>45.21</td>\n",
       "      <td>27.55</td>\n",
       "      <td>58.01</td>\n",
       "      <td>41.957222</td>\n",
       "      <td>18.23</td>\n",
       "      <td>31.42</td>\n",
       "      <td>25.027222</td>\n",
       "    </tr>\n",
       "    <tr>\n",
       "      <th>18</th>\n",
       "      <td>41.54</td>\n",
       "      <td>26.53</td>\n",
       "      <td>58.01</td>\n",
       "      <td>41.935263</td>\n",
       "      <td>18.23</td>\n",
       "      <td>31.42</td>\n",
       "      <td>25.106316</td>\n",
       "    </tr>\n",
       "    <tr>\n",
       "      <th>19</th>\n",
       "      <td>28.88</td>\n",
       "      <td>20.90</td>\n",
       "      <td>58.01</td>\n",
       "      <td>41.282500</td>\n",
       "      <td>18.23</td>\n",
       "      <td>31.42</td>\n",
       "      <td>24.896000</td>\n",
       "    </tr>\n",
       "    <tr>\n",
       "      <th>20</th>\n",
       "      <td>30.18</td>\n",
       "      <td>21.40</td>\n",
       "      <td>58.01</td>\n",
       "      <td>40.753810</td>\n",
       "      <td>18.23</td>\n",
       "      <td>31.42</td>\n",
       "      <td>24.729524</td>\n",
       "    </tr>\n",
       "    <tr>\n",
       "      <th>21</th>\n",
       "      <td>23.37</td>\n",
       "      <td>17.06</td>\n",
       "      <td>58.01</td>\n",
       "      <td>39.963636</td>\n",
       "      <td>18.23</td>\n",
       "      <td>31.42</td>\n",
       "      <td>24.380909</td>\n",
       "    </tr>\n",
       "    <tr>\n",
       "      <th>22</th>\n",
       "      <td>33.79</td>\n",
       "      <td>22.99</td>\n",
       "      <td>58.01</td>\n",
       "      <td>39.695217</td>\n",
       "      <td>18.23</td>\n",
       "      <td>31.42</td>\n",
       "      <td>24.320435</td>\n",
       "    </tr>\n",
       "    <tr>\n",
       "      <th>23</th>\n",
       "      <td>31.52</td>\n",
       "      <td>21.25</td>\n",
       "      <td>58.01</td>\n",
       "      <td>39.354583</td>\n",
       "      <td>18.23</td>\n",
       "      <td>31.42</td>\n",
       "      <td>24.192500</td>\n",
       "    </tr>\n",
       "    <tr>\n",
       "      <th>24</th>\n",
       "      <td>25.44</td>\n",
       "      <td>16.50</td>\n",
       "      <td>58.01</td>\n",
       "      <td>38.798000</td>\n",
       "      <td>18.23</td>\n",
       "      <td>31.42</td>\n",
       "      <td>23.884800</td>\n",
       "    </tr>\n",
       "    <tr>\n",
       "      <th>25</th>\n",
       "      <td>20.83</td>\n",
       "      <td>14.42</td>\n",
       "      <td>58.01</td>\n",
       "      <td>38.106923</td>\n",
       "      <td>18.23</td>\n",
       "      <td>31.42</td>\n",
       "      <td>23.520769</td>\n",
       "    </tr>\n",
       "    <tr>\n",
       "      <th>26</th>\n",
       "      <td>22.34</td>\n",
       "      <td>15.74</td>\n",
       "      <td>58.01</td>\n",
       "      <td>37.522963</td>\n",
       "      <td>18.23</td>\n",
       "      <td>31.42</td>\n",
       "      <td>23.232593</td>\n",
       "    </tr>\n",
       "    <tr>\n",
       "      <th>27</th>\n",
       "      <td>18.25</td>\n",
       "      <td>13.94</td>\n",
       "      <td>58.01</td>\n",
       "      <td>36.834643</td>\n",
       "      <td>18.23</td>\n",
       "      <td>31.42</td>\n",
       "      <td>22.900714</td>\n",
       "    </tr>\n",
       "    <tr>\n",
       "      <th>28</th>\n",
       "      <td>10.23</td>\n",
       "      <td>8.43</td>\n",
       "      <td>10.23</td>\n",
       "      <td>10.230000</td>\n",
       "      <td>10.23</td>\n",
       "      <td>8.43</td>\n",
       "      <td>8.430000</td>\n",
       "    </tr>\n",
       "    <tr>\n",
       "      <th>29</th>\n",
       "      <td>10.67</td>\n",
       "      <td>9.08</td>\n",
       "      <td>10.67</td>\n",
       "      <td>10.450000</td>\n",
       "      <td>10.23</td>\n",
       "      <td>9.08</td>\n",
       "      <td>8.755000</td>\n",
       "    </tr>\n",
       "  </tbody>\n",
       "</table>\n",
       "</div>"
      ],
      "text/plain": [
       "      NOx    NO2  NOx_max   NOx_mean  NOx_min  NO2_max   NO2_mean\n",
       "0   18.23  11.84    18.23  18.230000    18.23    11.84  11.840000\n",
       "1   26.09  17.29    26.09  22.160000    18.23    17.29  14.565000\n",
       "2   31.80  21.40    31.80  25.373333    18.23    21.40  16.843333\n",
       "3   28.80  16.03    31.80  26.230000    18.23    21.40  16.640000\n",
       "4   38.67  25.11    38.67  28.718000    18.23    25.11  18.334000\n",
       "5   47.60  23.14    47.60  31.865000    18.23    25.11  19.135000\n",
       "6   44.62  25.84    47.60  33.687143    18.23    25.84  20.092857\n",
       "7   47.66  27.64    47.66  35.433750    18.23    27.64  21.036250\n",
       "8   42.50  25.97    47.66  36.218889    18.23    27.64  21.584444\n",
       "9   53.51  31.42    53.51  37.948000    18.23    31.42  22.568000\n",
       "10  43.85  28.73    53.51  38.484545    18.23    31.42  23.128182\n",
       "11  44.75  27.64    53.51  39.006667    18.23    31.42  23.504167\n",
       "12  58.01  26.68    58.01  40.468462    18.23    31.42  23.748462\n",
       "13  44.47  28.96    58.01  40.754286    18.23    31.42  24.120714\n",
       "14  49.82  30.91    58.01  41.358667    18.23    31.42  24.573333\n",
       "15  40.55  25.17    58.01  41.308125    18.23    31.42  24.610625\n",
       "16  49.09  29.17    58.01  41.765882    18.23    31.42  24.878824\n",
       "17  45.21  27.55    58.01  41.957222    18.23    31.42  25.027222\n",
       "18  41.54  26.53    58.01  41.935263    18.23    31.42  25.106316\n",
       "19  28.88  20.90    58.01  41.282500    18.23    31.42  24.896000\n",
       "20  30.18  21.40    58.01  40.753810    18.23    31.42  24.729524\n",
       "21  23.37  17.06    58.01  39.963636    18.23    31.42  24.380909\n",
       "22  33.79  22.99    58.01  39.695217    18.23    31.42  24.320435\n",
       "23  31.52  21.25    58.01  39.354583    18.23    31.42  24.192500\n",
       "24  25.44  16.50    58.01  38.798000    18.23    31.42  23.884800\n",
       "25  20.83  14.42    58.01  38.106923    18.23    31.42  23.520769\n",
       "26  22.34  15.74    58.01  37.522963    18.23    31.42  23.232593\n",
       "27  18.25  13.94    58.01  36.834643    18.23    31.42  22.900714\n",
       "28  10.23   8.43    10.23  10.230000    10.23     8.43   8.430000\n",
       "29  10.67   9.08    10.67  10.450000    10.23     9.08   8.755000"
      ]
     },
     "execution_count": 25,
     "metadata": {},
     "output_type": "execute_result"
    }
   ],
   "source": [
    "# df_data[\"NOx_max\"]= df_data[\"NOx\"].max()\n",
    "# df_data[\"NOx_min\"]= df_data[\"NOx\"].min()\n",
    "# df_data[\"NOx_mean\"]= df_data[\"NOx\"].mean()\n",
    "# df_data[\"NO2_max\"]= df_data[\"NO2\"].max()\n",
    "# df_data[\"NO2_min\"]= df_data[\"NO2\"].min()\n",
    "# df_data[\"NO2_mean\"]= df_data[\"NO2\"].mean()\n",
    "# df_data = df_data.reset_index(drop=True)\n",
    "\n",
    "# for t in range(len(df_data)-1,-1,-1):\n",
    "#     tmp1 = df_data.loc[t,\"Weekday\"]\n",
    "#     for bt in range(t,-1,-1):\n",
    "#         tmp2 = df_data.loc[bt,\"Weekday\"]\n",
    "        \n",
    "#         if bt==0:\n",
    "#             bt=-1\n",
    "#             break\n",
    "#         elif tmp1 == tmp2:\n",
    "#             # print(tmp1,tmp2)\n",
    "#             continue\n",
    "#         else:\n",
    "#             # print(t,tmp1,bt,tmp2)\n",
    "#             break\n",
    "#     # print(t,tmp1,bt,tmp2)\n",
    "#     df_data.loc[t,\"NOx_max\"]=df_data[\"NOx\"].iloc[bt+1:t+1].max()\n",
    "#     df_data.loc[t,\"NOx_mean\"]=df_data[\"NOx\"].iloc[bt+1:t+1].mean()\n",
    "#     df_data.loc[t,\"NOx_min\"]=df_data[\"NOx\"].iloc[bt+1:t+1].min()\n",
    "#     df_data.loc[t,\"NO2_max\"]=df_data[\"NO2\"].iloc[bt+1:t+1].max()\n",
    "#     df_data.loc[t,\"NO2_mean\"]=df_data[\"NO2\"].iloc[bt+1:t+1].mean()\n",
    "#     df_data.loc[t,\"NO2_min\"]=df_data[\"NO2\"].iloc[bt+1:t+1].min()\n",
    "# df_data = df_data[['NOx','NO2',\"NOx_max\",\"NOx_mean\",\"NOx_min\",\"NO2_max\",\"NO2_mean\",\n",
    "#          ]].copy() \n",
    "# df_data.head(30)\n"
   ]
  },
  {
   "cell_type": "code",
   "execution_count": 26,
   "metadata": {},
   "outputs": [],
   "source": [
    "train_Df = df_data[0:35520]\n",
    "train_Data = train_Df[0:28416]\n",
    "val_df = train_Df[28416:]"
   ]
  },
  {
   "cell_type": "code",
   "execution_count": 27,
   "metadata": {},
   "outputs": [],
   "source": [
    "X_train = train_Data[0:-1].copy()\n",
    "Y_train = train_Data[[\"NO2\",\"NOx\"]].copy()\n",
    "Y_train = Y_train[1:]"
   ]
  },
  {
   "cell_type": "code",
   "execution_count": 28,
   "metadata": {},
   "outputs": [],
   "source": [
    "X_val = val_df[0:-1].copy()\n",
    "Y_val = val_df[[\"NO2\",\"NOx\"]].copy()\n",
    "Y_val = Y_val[1:]\n"
   ]
  },
  {
   "cell_type": "code",
   "execution_count": 29,
   "metadata": {},
   "outputs": [],
   "source": [
    "Xscaler = StandardScaler()\n",
    "Xscaler.fit(X_train)\n",
    "scaled_X_train = Xscaler.transform(X_train)\n",
    "Yscaler = StandardScaler()\n",
    "Yscaler.fit(Y_train)\n",
    "scaled_y_train = Yscaler.transform(Y_train)"
   ]
  },
  {
   "cell_type": "code",
   "execution_count": 30,
   "metadata": {},
   "outputs": [],
   "source": [
    "X_val_scaler = StandardScaler() # scale so that all the X data will range from 0 to 1\n",
    "X_val_scaler.fit(X_val)\n",
    "scaled_X_val = X_val_scaler.transform(X_val)\n",
    "Y_val_scaler = StandardScaler()\n",
    "Y_val_scaler.fit(Y_val)\n",
    "scaled_y_val = Y_val_scaler.transform(Y_val)"
   ]
  },
  {
   "cell_type": "code",
   "execution_count": 31,
   "metadata": {},
   "outputs": [],
   "source": [
    "n_input = 1 #how many samples/rows/timesteps to look in the past in order to forecast the next sample\n",
    "n_features= X_train.shape[1] # how many predictors/Xs/features we have to predict y\n",
    "b_size = 256 # Number of timeseries samples in each batch\n",
    "generator = TimeseriesGenerator(scaled_X_train, scaled_y_train, length=n_input, batch_size=b_size)\n",
    "valgenerator = TimeseriesGenerator(scaled_X_val,scaled_y_val,length=n_input, batch_size=b_size)"
   ]
  },
  {
   "cell_type": "code",
   "execution_count": 32,
   "metadata": {},
   "outputs": [
    {
     "name": "stdout",
     "output_type": "stream",
     "text": [
      "Model: \"sequential_1\"\n",
      "_________________________________________________________________\n",
      " Layer (type)                Output Shape              Param #   \n",
      "=================================================================\n",
      " lstm_1 (LSTM)               (None, 12)                960       \n",
      "                                                                 \n",
      " dense_1 (Dense)             (None, 2)                 26        \n",
      "                                                                 \n",
      "=================================================================\n",
      "Total params: 986\n",
      "Trainable params: 986\n",
      "Non-trainable params: 0\n",
      "_________________________________________________________________\n",
      "Epoch 1/1000\n",
      "111/111 - 2s - loss: 0.6175 - val_loss: 0.5009 - 2s/epoch - 14ms/step\n",
      "Epoch 2/1000\n",
      "111/111 - 0s - loss: 0.4181 - val_loss: 0.4223 - 210ms/epoch - 2ms/step\n",
      "Epoch 3/1000\n",
      "111/111 - 0s - loss: 0.3618 - val_loss: 0.3781 - 201ms/epoch - 2ms/step\n",
      "Epoch 4/1000\n",
      "111/111 - 0s - loss: 0.3376 - val_loss: 0.3643 - 201ms/epoch - 2ms/step\n",
      "Epoch 5/1000\n",
      "111/111 - 0s - loss: 0.3298 - val_loss: 0.3572 - 213ms/epoch - 2ms/step\n",
      "Epoch 6/1000\n",
      "111/111 - 0s - loss: 0.3257 - val_loss: 0.3510 - 226ms/epoch - 2ms/step\n",
      "Epoch 7/1000\n",
      "111/111 - 0s - loss: 0.3229 - val_loss: 0.3488 - 210ms/epoch - 2ms/step\n",
      "Epoch 8/1000\n",
      "111/111 - 0s - loss: 0.3211 - val_loss: 0.3481 - 225ms/epoch - 2ms/step\n",
      "Epoch 9/1000\n",
      "111/111 - 0s - loss: 0.3201 - val_loss: 0.3468 - 233ms/epoch - 2ms/step\n",
      "Epoch 10/1000\n",
      "111/111 - 0s - loss: 0.3196 - val_loss: 0.3459 - 227ms/epoch - 2ms/step\n",
      "Epoch 11/1000\n",
      "111/111 - 0s - loss: 0.3190 - val_loss: 0.3458 - 213ms/epoch - 2ms/step\n",
      "Epoch 12/1000\n",
      "111/111 - 0s - loss: 0.3185 - val_loss: 0.3454 - 236ms/epoch - 2ms/step\n",
      "Epoch 13/1000\n",
      "111/111 - 0s - loss: 0.3179 - val_loss: 0.3455 - 211ms/epoch - 2ms/step\n",
      "Epoch 14/1000\n",
      "111/111 - 0s - loss: 0.3178 - val_loss: 0.3447 - 211ms/epoch - 2ms/step\n",
      "Epoch 15/1000\n",
      "111/111 - 0s - loss: 0.3173 - val_loss: 0.3441 - 209ms/epoch - 2ms/step\n",
      "Epoch 16/1000\n",
      "111/111 - 0s - loss: 0.3173 - val_loss: 0.3432 - 231ms/epoch - 2ms/step\n",
      "Epoch 17/1000\n",
      "111/111 - 0s - loss: 0.3171 - val_loss: 0.3440 - 211ms/epoch - 2ms/step\n",
      "Epoch 18/1000\n",
      "111/111 - 0s - loss: 0.3164 - val_loss: 0.3436 - 221ms/epoch - 2ms/step\n",
      "Epoch 19/1000\n",
      "111/111 - 0s - loss: 0.3165 - val_loss: 0.3425 - 217ms/epoch - 2ms/step\n",
      "Epoch 20/1000\n",
      "111/111 - 0s - loss: 0.3163 - val_loss: 0.3429 - 209ms/epoch - 2ms/step\n",
      "Epoch 21/1000\n",
      "111/111 - 0s - loss: 0.3157 - val_loss: 0.3430 - 210ms/epoch - 2ms/step\n",
      "Epoch 22/1000\n",
      "111/111 - 0s - loss: 0.3157 - val_loss: 0.3431 - 211ms/epoch - 2ms/step\n"
     ]
    },
    {
     "data": {
      "image/png": "[encoded data removed]",
      "text/plain": [
       "<Figure size 432x288 with 1 Axes>"
      ]
     },
     "metadata": {
      "needs_background": "light"
     },
     "output_type": "display_data"
    },
    {
     "name": "stdout",
     "output_type": "stream",
     "text": [
      " Computing LSTM Feature importance...\n",
      "\n"
     ]
    },
    {
     "data": {
      "image/png": "[encoded data removed]",
      "text/plain": [
       "<Figure size 360x360 with 1 Axes>"
      ]
     },
     "metadata": {
      "needs_background": "light"
     },
     "output_type": "display_data"
    }
   ],
   "source": [
    "early_stopping = tf.keras.callbacks.EarlyStopping(monitor='val_loss',\n",
    "                                                    patience=3,\n",
    "                                                    mode='min')\n",
    "\n",
    "model = Sequential()\n",
    "#model.add(Embedding(input_dim=48,output_dim=48))\n",
    "model.add(LSTM(12,activation='tanh', input_shape=(n_input, n_features)))\n",
    "# model.add(Dropout(0.1))\n",
    "# model.add(Dense(30, activation='tanh'))\n",
    "# model.add(Dropout(0.3))\n",
    "model.add(Dense(2))\n",
    "#model.add(tf.keras.layers.Reshape([48, 3]))\n",
    "model.compile(loss='mae',optimizer='adam')\n",
    "model.summary()\n",
    "\n",
    "#model.fit(generator,epochs=5)\n",
    "history = model.fit(generator, epochs=1000, shuffle=True,\n",
    "                        validation_data=(valgenerator),\n",
    "                        callbacks=[early_stopping],\n",
    "                        verbose=2)\n",
    "\n",
    "\n",
    "model.save(\"LSTM/LSTM_G_Model.h5\")\n",
    "\n",
    "#plot model accuracy\n",
    "plt.plot(history.history['loss'], label='train')\n",
    "plt.plot(history.history['val_loss'], label='validation')\n",
    "plt.legend()\n",
    "plt.show()\n",
    "\n",
    "#plot feature importance\n",
    "columnsTitles=train_Data.columns.to_list()\n",
    "results = []\n",
    "print(' Computing LSTM Feature importance...')\n",
    "feature_preds_scale = model.predict(valgenerator, verbose = 0).squeeze()\n",
    "feature_preds = Y_val_scaler.inverse_transform(feature_preds_scale)\n",
    "baseline_mae = np.mean(np.abs(feature_preds - Y_val[:-1].values))\n",
    "results.append({'feature': 'BASELINE', 'mae': baseline_mae})\n",
    "\n",
    "for i in range(len(columnsTitles)):\n",
    "    save_col = scaled_X_val[:,i].copy()\n",
    "    np.random.shuffle(scaled_X_val[:,i])\n",
    "    feature_preds_scale = model.predict(valgenerator, verbose = 0).squeeze()\n",
    "    feature_preds = Y_val_scaler.inverse_transform(feature_preds_scale)\n",
    "    mae = np.mean(np.abs(feature_preds - Y_val[:-1].values))\n",
    "    results.append({'feature': columnsTitles[i], 'mae': mae})\n",
    "    \n",
    "    scaled_X_val[:,i] = save_col\n",
    "\n",
    "print()\n",
    "width = [0.2]\n",
    "df = pd.DataFrame(results)\n",
    "df = df.sort_values('mae')\n",
    "plt.figure(figsize=(5,5))\n",
    "plt.barh(np.arange(len(columnsTitles)+1),df.mae, width)\n",
    "plt.yticks(np.arange(len(columnsTitles)+1),df.feature.values)\n",
    "plt.title('LSTM Feature Importance',size=16)\n",
    "plt.ylim((-1,len(columnsTitles)+1))\n",
    "plt.plot([baseline_mae,baseline_mae],[-1,len(columnsTitles)+1], '--', color='orange',\n",
    "                    label=f'Baseline \\nMAE={baseline_mae:.3f}')\n",
    "plt.xlabel('MAE with feature permuted',size=14)\n",
    "plt.ylabel('Feature',size=14)\n",
    "plt.legend()\n",
    "plt.show()"
   ]
  },
  {
   "cell_type": "code",
   "execution_count": 28,
   "metadata": {},
   "outputs": [
    {
     "name": "stdout",
     "output_type": "stream",
     "text": [
      "val_loss Scaled: 0.26714884820422896\n",
      "val_loss normal: 5.772296192723303\n"
     ]
    }
   ],
   "source": [
    "\n",
    "prediction_scale = model.predict(valgenerator)\n",
    "prediction = Y_val_scaler.inverse_transform(prediction_scale)\n",
    "score = get_score(prediction,Y_val[:-1].values)\n",
    "score_scale = get_score(prediction_scale,scaled_y_val[:-1])\n",
    "print(\"val_loss Scaled:\",score_scale)\n",
    "print(\"val_loss normal:\",score)\n"
   ]
  },
  {
   "cell_type": "code",
   "execution_count": 33,
   "metadata": {},
   "outputs": [],
   "source": [
    "real_df = df_data[35520: -6]\n",
    "X_test = real_df.copy()\n",
    "scaled_X_test = Xscaler.transform(X_test)\n",
    "nplen = (X_test.shape[0],2)\n",
    "npzeros = np.zeros(nplen)"
   ]
  },
  {
   "cell_type": "code",
   "execution_count": 34,
   "metadata": {},
   "outputs": [],
   "source": [
    "test_generator = TimeseriesGenerator(scaled_X_test, npzeros, length=n_input, batch_size=b_size,reverse=True)"
   ]
  },
  {
   "cell_type": "code",
   "execution_count": 35,
   "metadata": {},
   "outputs": [],
   "source": [
    "y_pred_scaled = model.predict(test_generator)\n",
    "y_pred = Yscaler.inverse_transform(y_pred_scaled)"
   ]
  },
  {
   "cell_type": "code",
   "execution_count": 36,
   "metadata": {},
   "outputs": [],
   "source": [
    "NO2_pred = [i[0] for i in y_pred]\n",
    "NOx_pred = [i[1] for i in y_pred]"
   ]
  },
  {
   "cell_type": "code",
   "execution_count": 34,
   "metadata": {},
   "outputs": [],
   "source": [
    "predictionsDf = pd.DataFrame({\"Pred_NO2\":NO2_pred,\"Pred_NOx\":NOx_pred})\n",
    "predictionsDf = predictionsDf.round(2)\n",
    "predictionsDf.to_csv(\"LSTM/AAl_G_Prediction.csv\",index=False)"
   ]
  },
  {
   "cell_type": "code",
   "execution_count": 37,
   "metadata": {},
   "outputs": [],
   "source": [
    "NO2_real =real_df[\"NO2\"].values\n",
    "NOx_real =real_df[\"NOx\"].values"
   ]
  },
  {
   "cell_type": "code",
   "execution_count": 36,
   "metadata": {},
   "outputs": [],
   "source": [
    "realDF = pd.DataFrame({\"Real_NO2\":NO2_real,\"Real_NOx\":NOx_real})\n",
    "realDF.to_csv(\"LSTM/AAl_G_Real.csv\",index=False)"
   ]
  },
  {
   "cell_type": "code",
   "execution_count": 38,
   "metadata": {},
   "outputs": [
    {
     "name": "stdout",
     "output_type": "stream",
     "text": [
      "NOx score: 6.413757467674633 \n",
      "NO2 score: 2.8666654050401688 \n",
      "Average MAE: 4.640211436357401\n"
     ]
    }
   ],
   "source": [
    "scoreNO2 = get_score(NO2_real[1:],NO2_pred)\n",
    "scoreNOx = get_score(NOx_real[1:],NOx_pred)\n",
    "average = (scoreNO2 + scoreNOx) / 2\n",
    "print('NOx score:', scoreNOx, '\\n' 'NO2 score:', scoreNO2, '\\n' 'Average MAE:', average)"
   ]
  },
  {
   "cell_type": "code",
   "execution_count": 38,
   "metadata": {},
   "outputs": [
    {
     "data": {
      "image/png": "[encoded data removed]",
      "text/plain": [
       "<Figure size 700x420 with 1 Axes>"
      ]
     },
     "metadata": {},
     "output_type": "display_data"
    }
   ],
   "source": [
    "\n",
    "plt.figure(num=None, dpi=70, figsize=(10, 6),facecolor='w', edgecolor='k')\n",
    "plt.plot(NO2_pred[0:48], \"-b\", label=\"Predicted values\")\n",
    "plt.plot(NO2_real[1:49], \"-r\", label=\"Real values\")\n",
    "plt.legend(loc=\"upper left\")\n",
    "plt.title('NO2 comparisons', x=0.5, y=0.8, loc='right')\n",
    "plt.show()"
   ]
  },
  {
   "cell_type": "code",
   "execution_count": 39,
   "metadata": {},
   "outputs": [
    {
     "data": {
      "image/png": "[encoded data removed]",
      "text/plain": [
       "<Figure size 700x420 with 1 Axes>"
      ]
     },
     "metadata": {},
     "output_type": "display_data"
    }
   ],
   "source": [
    "plt.figure(num=None, dpi=70, figsize=(10, 6),facecolor='w', edgecolor='k')\n",
    "plt.plot(NOx_pred[0:500], \"-b\", label=\"Predicted values\")\n",
    "plt.plot(NOx_real[1:501], \"-r\", label=\"Real values\")\n",
    "plt.legend(loc=\"upper left\")\n",
    "plt.title('NOx comparisons', x=0.5, y=0.8, loc='right')\n",
    "plt.show()"
   ]
  }
 ],
 "metadata": {
  "interpreter": {
   "hash": "1613ea51840f1410cf15fd1d67f805b84787e66c01b705b597849b51156bc7f8"
  },
  "kernelspec": {
   "display_name": "Python 3.9.6 64-bit",
   "language": "python",
   "name": "python3"
  },
  "language_info": {
   "codemirror_mode": {
    "name": "ipython",
    "version": 3
   },
   "file_extension": ".py",
   "mimetype": "text/x-python",
   "name": "python",
   "nbconvert_exporter": "python",
   "pygments_lexer": "ipython3",
   "version": "3.9.6"
  },
  "orig_nbformat": 4
 },
 "nbformat": 4,
 "nbformat_minor": 2
}
